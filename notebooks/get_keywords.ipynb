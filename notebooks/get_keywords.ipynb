{
 "cells": [
  {
   "cell_type": "code",
   "execution_count": 2,
   "id": "3af5e97f-3f35-440e-8344-d7cc924927c7",
   "metadata": {},
   "outputs": [],
   "source": [
    "import psycopg2\n",
    "import pandas as pd\n",
    "from os import environ"
   ]
  },
  {
   "cell_type": "code",
   "execution_count": 3,
   "id": "35e97c54-95d2-4262-a339-667298964c60",
   "metadata": {},
   "outputs": [],
   "source": [
    "conn = psycopg2.connect(\n",
    "    host=environ['DB_HOST'],\n",
    "\tport=environ['DB_PORT'],\n",
    "\tuser=environ['DB_USERNAME'],\n",
    "\tpassword=environ['DB_PASSWORD'],\n",
    "\tdatabase=environ['DB_NAME'],\n",
    ")"
   ]
  },
  {
   "cell_type": "code",
   "execution_count": 4,
   "id": "076078c9-fc36-4e0b-8aa5-177efc6ee944",
   "metadata": {},
   "outputs": [],
   "source": [
    "%run get_pool_of_elements.ipynb"
   ]
  },
  {
   "cell_type": "code",
   "execution_count": 15,
   "id": "6adbb976-22e4-4fb6-b0e5-a6b98da03427",
   "metadata": {},
   "outputs": [],
   "source": [
    "query = \"\"\"\n",
    "    SELECT p.title, p.title || p.full_text AS text, t.title AS type FROM pads p\n",
    "    INNER JOIN templates t\n",
    "        ON p.template = t.id\n",
    "    WHERE p.status >= 2\n",
    "    AND t.id <> 2\n",
    "    AND p.id IN {}\n",
    "\"\"\".format(tuple(pool_ids))"
   ]
  },
  {
   "cell_type": "code",
   "execution_count": 16,
   "id": "3577691e-c88f-42f7-92f8-358a4a848768",
   "metadata": {},
   "outputs": [
    {
     "name": "stderr",
     "output_type": "stream",
     "text": [
      "/var/folders/tg/c_k1syfs2b9gvpkyjkcmdqx00000gn/T/ipykernel_18943/2256331286.py:1: UserWarning: pandas only supports SQLAlchemy connectable (engine/connection) or database string URI or sqlite3 DBAPI2 connection. Other DBAPI2 objects are not tested. Please consider using SQLAlchemy.\n",
      "  data = pd.read_sql_query(query,con=conn)\n"
     ]
    }
   ],
   "source": [
    "data = pd.read_sql_query(query,con=conn)"
   ]
  },
  {
   "cell_type": "code",
   "execution_count": 17,
   "id": "0b35eb22-30b0-48ff-818b-527fafb8cc7b",
   "metadata": {},
   "outputs": [],
   "source": [
    "data.loc[data['type'] == 'Tools and methods capture card (simplified)', 'type'] = 'Tools and methods capture card'\n",
    "data.loc[data['type'] == 'Tools and methods capture card', 'type'] = 'Tools capture card'"
   ]
  },
  {
   "cell_type": "code",
   "execution_count": 18,
   "id": "b1873e0a-8a8a-48d8-861c-f75216a4fe52",
   "metadata": {},
   "outputs": [
    {
     "data": {
      "text/html": [
       "<div>\n",
       "<style scoped>\n",
       "    .dataframe tbody tr th:only-of-type {\n",
       "        vertical-align: middle;\n",
       "    }\n",
       "\n",
       "    .dataframe tbody tr th {\n",
       "        vertical-align: top;\n",
       "    }\n",
       "\n",
       "    .dataframe thead th {\n",
       "        text-align: right;\n",
       "    }\n",
       "</style>\n",
       "<table border=\"1\" class=\"dataframe\">\n",
       "  <thead>\n",
       "    <tr style=\"text-align: right;\">\n",
       "      <th></th>\n",
       "      <th>title</th>\n",
       "      <th>text</th>\n",
       "      <th>type</th>\n",
       "    </tr>\n",
       "  </thead>\n",
       "  <tbody>\n",
       "    <tr>\n",
       "      <th>0</th>\n",
       "      <td>Nesta’s DIY Toolkit</td>\n",
       "      <td>Nesta’s DIY ToolkitNesta’s DIY Toolkit\\n\\nImag...</td>\n",
       "      <td>Tools and methods capture card</td>\n",
       "    </tr>\n",
       "    <tr>\n",
       "      <th>1</th>\n",
       "      <td>Crowd-mapping</td>\n",
       "      <td>Crowd-mappingCrowd-mapping\\n\\nnull\\nnull\\nImag...</td>\n",
       "      <td>Tools and methods capture card</td>\n",
       "    </tr>\n",
       "    <tr>\n",
       "      <th>2</th>\n",
       "      <td>Traveller’s personas</td>\n",
       "      <td>Traveller’s personasTraveller’s personas\\n\\nnu...</td>\n",
       "      <td>Tools and methods capture card</td>\n",
       "    </tr>\n",
       "    <tr>\n",
       "      <th>3</th>\n",
       "      <td>Foresight</td>\n",
       "      <td>ForesightForesight\\n\\nnull\\nnull\\nImage: What ...</td>\n",
       "      <td>Tools and methods capture card</td>\n",
       "    </tr>\n",
       "    <tr>\n",
       "      <th>4</th>\n",
       "      <td>ArcGIS</td>\n",
       "      <td>ArcGISArcGIS\\n\\nImage: What does it look like?...</td>\n",
       "      <td>Tools and methods capture card</td>\n",
       "    </tr>\n",
       "    <tr>\n",
       "      <th>...</th>\n",
       "      <td>...</td>\n",
       "      <td>...</td>\n",
       "      <td>...</td>\n",
       "    </tr>\n",
       "    <tr>\n",
       "      <th>338</th>\n",
       "      <td>Collecting and analyzing data maps</td>\n",
       "      <td>Collecting and analyzing data mapsCollecting a...</td>\n",
       "      <td>Tools and methods capture card</td>\n",
       "    </tr>\n",
       "    <tr>\n",
       "      <th>339</th>\n",
       "      <td>Asset mapping - nothing for us, without us\\n</td>\n",
       "      <td>Asset mapping - nothing for us, without us\\nAs...</td>\n",
       "      <td>Tactics capture card</td>\n",
       "    </tr>\n",
       "    <tr>\n",
       "      <th>340</th>\n",
       "      <td>Future thinking</td>\n",
       "      <td>Future thinkingFuture thinking\\n\\nnull\\nnull\\n...</td>\n",
       "      <td>Tools and methods capture card</td>\n",
       "    </tr>\n",
       "    <tr>\n",
       "      <th>341</th>\n",
       "      <td>The Future, Backwards</td>\n",
       "      <td>The Future, BackwardsThe Future, Backwards\\n\\n...</td>\n",
       "      <td>Tools and methods capture card</td>\n",
       "    </tr>\n",
       "    <tr>\n",
       "      <th>342</th>\n",
       "      <td>Increasing community engagement through commun...</td>\n",
       "      <td>Increasing community engagement through commun...</td>\n",
       "      <td>Tools and methods capture card</td>\n",
       "    </tr>\n",
       "  </tbody>\n",
       "</table>\n",
       "<p>343 rows × 3 columns</p>\n",
       "</div>"
      ],
      "text/plain": [
       "                                                 title  \\\n",
       "0                                  Nesta’s DIY Toolkit   \n",
       "1                                        Crowd-mapping   \n",
       "2                                 Traveller’s personas   \n",
       "3                                            Foresight   \n",
       "4                                               ArcGIS   \n",
       "..                                                 ...   \n",
       "338                 Collecting and analyzing data maps   \n",
       "339       Asset mapping - nothing for us, without us\\n   \n",
       "340                                    Future thinking   \n",
       "341                              The Future, Backwards   \n",
       "342  Increasing community engagement through commun...   \n",
       "\n",
       "                                                  text  \\\n",
       "0    Nesta’s DIY ToolkitNesta’s DIY Toolkit\\n\\nImag...   \n",
       "1    Crowd-mappingCrowd-mapping\\n\\nnull\\nnull\\nImag...   \n",
       "2    Traveller’s personasTraveller’s personas\\n\\nnu...   \n",
       "3    ForesightForesight\\n\\nnull\\nnull\\nImage: What ...   \n",
       "4    ArcGISArcGIS\\n\\nImage: What does it look like?...   \n",
       "..                                                 ...   \n",
       "338  Collecting and analyzing data mapsCollecting a...   \n",
       "339  Asset mapping - nothing for us, without us\\nAs...   \n",
       "340  Future thinkingFuture thinking\\n\\nnull\\nnull\\n...   \n",
       "341  The Future, BackwardsThe Future, Backwards\\n\\n...   \n",
       "342  Increasing community engagement through commun...   \n",
       "\n",
       "                               type  \n",
       "0    Tools and methods capture card  \n",
       "1    Tools and methods capture card  \n",
       "2    Tools and methods capture card  \n",
       "3    Tools and methods capture card  \n",
       "4    Tools and methods capture card  \n",
       "..                              ...  \n",
       "338  Tools and methods capture card  \n",
       "339            Tactics capture card  \n",
       "340  Tools and methods capture card  \n",
       "341  Tools and methods capture card  \n",
       "342  Tools and methods capture card  \n",
       "\n",
       "[343 rows x 3 columns]"
      ]
     },
     "execution_count": 18,
     "metadata": {},
     "output_type": "execute_result"
    }
   ],
   "source": [
    "data"
   ]
  },
  {
   "cell_type": "code",
   "execution_count": 19,
   "id": "7d0d0784-8e63-46f7-a29d-10118893a058",
   "metadata": {},
   "outputs": [],
   "source": [
    "seed_keywords = list(data.itertuples(index = False, name = None))"
   ]
  },
  {
   "cell_type": "code",
   "execution_count": 20,
   "id": "ec178156-3c57-46f7-873d-fa90e846a40d",
   "metadata": {},
   "outputs": [],
   "source": [
    "conn.close()"
   ]
  },
  {
   "cell_type": "code",
   "execution_count": null,
   "id": "c5e7d5ba-3ffd-448e-b8c1-e5c5c0063619",
   "metadata": {},
   "outputs": [],
   "source": []
  }
 ],
 "metadata": {
  "kernelspec": {
   "display_name": "Python 3 (ipykernel)",
   "language": "python",
   "name": "python3"
  },
  "language_info": {
   "codemirror_mode": {
    "name": "ipython",
    "version": 3
   },
   "file_extension": ".py",
   "mimetype": "text/x-python",
   "name": "python",
   "nbconvert_exporter": "python",
   "pygments_lexer": "ipython3",
   "version": "3.12.7"
  }
 },
 "nbformat": 4,
 "nbformat_minor": 5
}
