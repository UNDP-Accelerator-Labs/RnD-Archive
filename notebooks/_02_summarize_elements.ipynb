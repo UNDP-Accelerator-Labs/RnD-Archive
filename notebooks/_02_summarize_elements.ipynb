{
 "cells": [
  {
   "cell_type": "code",
   "execution_count": 2,
   "id": "fc98b813-9bf5-41aa-94c6-a0398c2aa490",
   "metadata": {},
   "outputs": [],
   "source": [
    "import pprint\n",
    "from ollama import chat\n",
    "import json\n",
    "from os import listdir\n",
    "from os.path import join\n",
    "import re"
   ]
  },
  {
   "cell_type": "code",
   "execution_count": 3,
   "id": "72b6db5b-bc0d-4ffd-93da-28886103ca99",
   "metadata": {},
   "outputs": [],
   "source": [
    "# def compile_SYS_PROMT():\n",
    "# \treturn \"\"\"\n",
    "# \tYou are a social innovator, helping me write a glossary on tools, methods, tactics, principles and skills \n",
    "#     that are commonly used in social and public innovation work.\n",
    "\n",
    "#     I will share with you a COMPILATION OF NOTES in markdown format that you will summarize the content for a single entry in the glossary.\n",
    "#     You return only the summary in a structured markdown format.\n",
    "# \t\"\"\""
   ]
  },
  {
   "cell_type": "code",
   "execution_count": 31,
   "id": "8debdae9-5e17-4a86-b759-90d3e065f684",
   "metadata": {},
   "outputs": [],
   "source": [
    "def compile_SYS_PROMT():\n",
    "\treturn \"\"\"\n",
    "\tYou are a social innovator, helping me write a glossary on tools, methods, tactics, principles and skills \n",
    "    that are commonly used in public and social innovation work. The audience of this glossary are public officials\n",
    "    and civil servants who have some understanding of public and social innovation, but are not experts.\n",
    "\n",
    "    I will share with you a COMPILATION OF NOTES in markdown format \n",
    "    that you will summarize for a single entry in the glossary.\n",
    "    You will return only the summary in a structured markdown format, using the sections provided below between three back ticks. \n",
    "    Only fill out the sections in that structure. Do not create a new structure, new sections, or follow \n",
    "    the structure of the COMPILATION OF NOTES.\n",
    "    Do not add an introductory sentence to your response.\n",
    "\n",
    "    Markdown structure:\n",
    "    ```\n",
    "    ## Overview\n",
    "    ## Purpose\n",
    "    ## How it works\n",
    "    ## Requirements\n",
    "    ## Reflections\n",
    "    ## Related methods (if any)\n",
    "    ## License\n",
    "    ## Examples\n",
    "    ```\n",
    "\t\"\"\""
   ]
  },
  {
   "cell_type": "code",
   "execution_count": 32,
   "id": "5909d282-66ae-4d0c-9531-42b9e34515f9",
   "metadata": {},
   "outputs": [],
   "source": [
    "def summarize_search_result(**kwargs):\n",
    "\tprompt = kwargs.get('prompt')\n",
    "\tmd = kwargs.get('md')\n",
    "\tstream_output = kwargs.get('stream_output', False)\n",
    "\tmodel = kwargs.get('model', 'llama3.1:8b')\n",
    "\n",
    "\tif prompt is None:\n",
    "\t\traise Exception('missing prompt')\n",
    "\tif md is None:\n",
    "\t\traise Exception('missing json input')\n",
    "\n",
    "\tstream: ChatResponse = chat(\n",
    "\t\tmodel=model, \n",
    "\t\toptions={\n",
    "\t\t\t'seed': 42,\n",
    "\t\t\t'temperature': 0.2,\n",
    "\t\t\t'num_ctx': 20000,\n",
    "\t\t},\n",
    "\t\tmessages = [\n",
    "\t\t\t{\n",
    "\t\t\t\t'role': 'system',\n",
    "\t\t\t\t'content': compile_SYS_PROMT(),\n",
    "\t\t\t},\n",
    "\t\t\t{\n",
    "\t\t\t\t'role': 'user',\n",
    "\t\t\t\t'content': f\"\"\"\n",
    "\t\t\t\t\tCOMPILATION OF NOTES: {md}\n",
    "\t\t\t\t\tUSER PROMPT: {prompt}\n",
    "\t\t\t\t\"\"\"\n",
    "\t\t\t},\n",
    "\t\t],\n",
    "\t\tstream=stream_output,\n",
    "\t)\n",
    "\n",
    "\tfull_response = ''\n",
    "\n",
    "\tif stream_output == True:\n",
    "\t\tprint('[AGENT] SUMMARY:')\n",
    "\t\tfor chunk in stream:\n",
    "\t\t\tprint(chunk['message']['content'], end='', flush=True)\n",
    "\t\t\tfull_response += chunk['message']['content']\n",
    "\t\tprint('\\n')\n",
    "\telse:\n",
    "\t\tfull_response = stream['message']['content']\n",
    "\n",
    "\treturn full_response"
   ]
  },
  {
   "cell_type": "code",
   "execution_count": 33,
   "id": "8a83fbb8-1022-43aa-89a1-0df13bbe34e6",
   "metadata": {},
   "outputs": [],
   "source": [
    "%run load_docx.ipynb"
   ]
  },
  {
   "cell_type": "code",
   "execution_count": 34,
   "id": "382d9988-0134-437c-9672-d1228e7efec0",
   "metadata": {},
   "outputs": [],
   "source": [
    "directory = f'../elements/__pages__/'\n",
    "files = [f for f in listdir(directory) if f != '.DS_Store']"
   ]
  },
  {
   "cell_type": "code",
   "execution_count": 35,
   "id": "988a1747-ee74-425f-94aa-f24bc0f1faca",
   "metadata": {},
   "outputs": [],
   "source": [
    "def getTypes (md):\n",
    "    types = re.findall(r'(?<=\\[\\[type:)[\\w:.\\-\\/\\d\\s…&\\(\\)\\\",]*(?=\\]\\])', str(md))\n",
    "    types = [t[:-1] for t in types if t[-1] == 's']\n",
    "    return types"
   ]
  },
  {
   "cell_type": "code",
   "execution_count": 36,
   "id": "8ed1f59f-2bb6-40fc-9603-77bc1c62eed3",
   "metadata": {},
   "outputs": [],
   "source": [
    "def getElementName (md):\n",
    "    # print(md.decode('unicode_escape'))\n",
    "    # print(md)\n",
    "    element = re.findall(r'(?<=\\n# )[\\w\\'\"’”‘“\\(\\)\\[\\]_\\-\\s]+(?=\\n)', str(md), flags=re.MULTILINE)\n",
    "    element = [e.strip() for e in element]\n",
    "    return element[0]"
   ]
  },
  {
   "cell_type": "code",
   "execution_count": 37,
   "id": "8bcd457b-28c9-4bbf-a42c-13b5e9c51775",
   "metadata": {},
   "outputs": [
    {
     "name": "stdout",
     "output_type": "stream",
     "text": [
      "Nesta’s DIY Toolkit\n",
      "tool\n",
      "Here's a draft of the entry:\n",
      "\n",
      "**DIY Toolkit**\n",
      "\n",
      "The DIY Toolkit is a collection of 30 practical social innovation tools, designed to help development practitioners invent, adopt or adapt ideas that can deliver better results. The toolkit features canvases and questions, illustrated with use-cases, that are quick to use and simple to apply.\n",
      "\n",
      "**Purpose:**\n",
      "The DIY Toolkit has been created to support the development community in finding innovative solutions to complex problems. It is designed for use by practitioners working on social innovation projects, particularly those focused on sustainable development, human rights, and social justice.\n",
      "\n",
      "**How it works:**\n",
      "\n",
      "1. Download the toolkit from the Nesta website.\n",
      "2. Choose a canvas or question that aligns with your project's needs.\n",
      "3. Use the canvas or question to guide your work, either individually or in collaboration with others.\n",
      "\n",
      "**Key features:**\n",
      "\n",
      "* 30 practical social innovation tools\n",
      "* Canvases and questions for co-creation, horizon scanning, and other innovation methods\n",
      "* Illustrated with use-cases to demonstrate application\n",
      "* Available in multiple languages\n",
      "\n",
      "**Requirements:**\n",
      "While the toolkit is digital, it may be useful to print out canvases for in-person workshop activities. Basic stationery items like pens and sticky notes can also be helpful.\n",
      "\n",
      "**Reflections:**\n",
      "\n",
      "* The DIY Toolkit is distributed under the CC V4 license, allowing users to adapt and share the tools freely.\n",
      "* The toolkit's simplicity and flexibility make it an accessible resource for practitioners of all levels.\n",
      "\n",
      "**Associated methods:**\n",
      "The DIY Toolkit is useful for co-creation, horizon scanning, making, and testing. It can also be used to defuse and catalyze innovation efforts.\n",
      "\n",
      "**Credit:**\n",
      "The DIY Toolkit was developed by Nesta, a UK-based charity that supports social innovation and entrepreneurship.\n",
      "\n",
      "**Additional resources:**\n",
      "\n",
      "* Visit the Nesta website to download the toolkit and learn more about its use cases.\n",
      "* Explore other social innovation tools and resources on the Nesta website.\n",
      "\n",
      "I hope this draft meets your needs! Let me know if you'd like me to revise anything.\n"
     ]
    }
   ],
   "source": [
    "for f in files[:1]:\n",
    "    # f = 'Accessibility of knowledge.md'\n",
    "    md = readFile(join(directory, f))\n",
    "    element = getElementName(md)\n",
    "    print(element)\n",
    "    element_type = ' or '.join(getTypes(md))\n",
    "    print(element_type)\n",
    "    prompt = f'I need to write an entry on {element} as a {element_type} for a social innovation glossary'\n",
    "    # Summarize\n",
    "    content = summarize_search_result(prompt=prompt, md=md, stream_output=False)\n",
    "    print(content)\n",
    "    # Export summary\n",
    "    # output_file = open(join('../elements/__generated__', f), 'w')\n",
    "    # output_file.write(content)\n",
    "    # output_file.close()"
   ]
  },
  {
   "cell_type": "code",
   "execution_count": null,
   "id": "e3e0ae0c-1d49-40db-914c-a7c34580350b",
   "metadata": {},
   "outputs": [],
   "source": []
  },
  {
   "cell_type": "code",
   "execution_count": null,
   "id": "50166d77-c671-460a-b3f9-310d167c0aa6",
   "metadata": {},
   "outputs": [],
   "source": []
  }
 ],
 "metadata": {
  "kernelspec": {
   "display_name": "Python 3 (ipykernel)",
   "language": "python",
   "name": "python3"
  },
  "language_info": {
   "codemirror_mode": {
    "name": "ipython",
    "version": 3
   },
   "file_extension": ".py",
   "mimetype": "text/x-python",
   "name": "python",
   "nbconvert_exporter": "python",
   "pygments_lexer": "ipython3",
   "version": "3.12.7"
  }
 },
 "nbformat": 4,
 "nbformat_minor": 5
}
