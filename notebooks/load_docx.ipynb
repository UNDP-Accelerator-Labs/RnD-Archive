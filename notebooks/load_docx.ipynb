{
 "cells": [
  {
   "cell_type": "code",
   "execution_count": 1,
   "id": "dadf8607-dfde-49f6-82b6-7fe20c106853",
   "metadata": {},
   "outputs": [],
   "source": [
    "## import textract\n",
    "from docx import Document\n",
    "import mammoth"
   ]
  },
  {
   "cell_type": "markdown",
   "id": "b9bfd508-1216-4ecf-9031-2e0a95d15142",
   "metadata": {},
   "source": [
    "Doc: https://python-docx.readthedocs.io/en/latest/api/text.html#paragraph-objects"
   ]
  },
  {
   "cell_type": "code",
   "execution_count": 2,
   "id": "9bf76049-f317-4503-ab77-1f8ee5ebebed",
   "metadata": {},
   "outputs": [],
   "source": [
    "def processDoc (doc):\n",
    "    ## return textract.process(doc)\n",
    "    text = []\n",
    "    doc = Document(doc)\n",
    "    for p in doc.paragraphs:\n",
    "        #print(p.style.name)\n",
    "        if (len(p.text) > 0) & (p.style.name == 'Normal'):\n",
    "            text.append(p.text)\n",
    "    #return '\\n'.join(text)\n",
    "    return text"
   ]
  },
  {
   "cell_type": "code",
   "execution_count": 3,
   "id": "2d9af000-2e2a-4aba-afdd-fa2776189d19",
   "metadata": {},
   "outputs": [],
   "source": [
    "def processMD (doc):\n",
    "    with open(doc, \"rb\") as docx_file:\n",
    "        md = mammoth.convert_to_markdown(docx_file)\n",
    "    return md"
   ]
  },
  {
   "cell_type": "code",
   "execution_count": null,
   "id": "1495e434-870d-42d0-a6fc-14d61db302a7",
   "metadata": {},
   "outputs": [],
   "source": []
  }
 ],
 "metadata": {
  "kernelspec": {
   "display_name": "Python 3 (ipykernel)",
   "language": "python",
   "name": "python3"
  },
  "language_info": {
   "codemirror_mode": {
    "name": "ipython",
    "version": 3
   },
   "file_extension": ".py",
   "mimetype": "text/x-python",
   "name": "python",
   "nbconvert_exporter": "python",
   "pygments_lexer": "ipython3",
   "version": "3.12.7"
  }
 },
 "nbformat": 4,
 "nbformat_minor": 5
}
