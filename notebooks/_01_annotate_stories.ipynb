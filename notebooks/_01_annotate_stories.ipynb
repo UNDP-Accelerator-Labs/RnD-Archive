{
 "cells": [
  {
   "cell_type": "code",
   "execution_count": 960,
   "id": "389eacaa-bd7c-4ac5-a4a2-5b60edf5e9eb",
   "metadata": {},
   "outputs": [],
   "source": [
    "from sentence_transformers import SentenceTransformer, util\n",
    "# import mammoth # THIS IS FOR CONVERTING THE DOCX TO MD\n",
    "from os import path, listdir\n",
    "import re"
   ]
  },
  {
   "cell_type": "code",
   "execution_count": 961,
   "id": "4dbfa708-ff4e-442f-8d96-87b838c27f9b",
   "metadata": {},
   "outputs": [],
   "source": [
    "model = SentenceTransformer('sentence-transformers/paraphrase-MiniLM-L6-v2')"
   ]
  },
  {
   "cell_type": "code",
   "execution_count": 962,
   "id": "41fafbed-45a8-433d-8eb0-f7ea6a0c580d",
   "metadata": {},
   "outputs": [],
   "source": [
    "%run load_docx.ipynb"
   ]
  },
  {
   "cell_type": "code",
   "execution_count": 963,
   "id": "28178b40-028b-4230-93a8-630d021f90c4",
   "metadata": {},
   "outputs": [],
   "source": [
    "file = '../Explorers_ZWE.docx'"
   ]
  },
  {
   "cell_type": "code",
   "execution_count": 964,
   "id": "c6b7125e-51f1-49f1-a361-1f329b7b0e57",
   "metadata": {
    "scrolled": true
   },
   "outputs": [],
   "source": [
    "file_name, file_extension = path.splitext(file)"
   ]
  },
  {
   "cell_type": "code",
   "execution_count": 965,
   "id": "4fdecca2-035f-4d15-a78c-fd79d7c6d341",
   "metadata": {},
   "outputs": [
    {
     "name": "stdout",
     "output_type": "stream",
     "text": [
      "[]\n"
     ]
    }
   ],
   "source": [
    "if file_extension == '.docx':\n",
    "    # doc = processDoc(file)\n",
    "    md = processMD(file)\n",
    "    # with open(file, \"rb\") as docx_file:\n",
    "    #     md = mammoth.convert_to_markdown(docx_file)\n",
    "        # len(doc[2:3][0])\n",
    "print(md.messages)"
   ]
  },
  {
   "cell_type": "code",
   "execution_count": 966,
   "id": "814ac444-65da-4669-a16c-719f1a150eeb",
   "metadata": {},
   "outputs": [],
   "source": [
    "doc = md.value.split('\\n\\n')"
   ]
  },
  {
   "cell_type": "code",
   "execution_count": 967,
   "id": "fdf8b431-87e4-4dff-ae18-6626acc92ccb",
   "metadata": {},
   "outputs": [],
   "source": [
    "def embed (string):\n",
    "    return model.encode(string)"
   ]
  },
  {
   "cell_type": "code",
   "execution_count": 968,
   "id": "2e6f40ab-978b-4f44-8cda-26feaabaa8a3",
   "metadata": {},
   "outputs": [],
   "source": [
    "doc_embeddings = [(s,embed(s)) for s in doc]"
   ]
  },
  {
   "cell_type": "code",
   "execution_count": 969,
   "id": "81d6f0ae-2503-4f03-b743-1e42ee8566c7",
   "metadata": {},
   "outputs": [],
   "source": [
    "def getType (md, w):\n",
    "    principle = 'Purpose/ reason: Why is this important?'\n",
    "    tactic = r'Tactic description: When do you apply this tactic\\? How does it work\\?'\n",
    "    skill = r'Skills description: What does the ability help you do, achieve, or produce\\?'\n",
    "    tool = r'(Type of tool: If it is a tool, what type of tool is it\\?|Short description: Describe in one sentence what the tool\\/ method is, and what it does\\.|Description of the tool: what is it\\?)'\n",
    "\n",
    "    res_principles = len(re.findall(principle, md))\n",
    "    res_tactics = len(re.findall(tactic, md))\n",
    "    res_skills = len(re.findall(skill, md))\n",
    "    res_tools = len(re.findall(tool, md))\n",
    "\n",
    "    # if res_principles == 0 and res_tactics == 0 and res_skills == 0 and res_tools == 0:\n",
    "    print(w)\n",
    "    print('pinciples', res_principles)\n",
    "    print('tactics', res_tactics)\n",
    "    print('skills', res_skills)\n",
    "    print('tools', res_tools)\n",
    "    print('\\n')\n",
    "\n",
    "    l = [('principles', res_principles), ('tactics', res_tactics), ('skills', res_skills), ('tools', res_tools)]\n",
    "    return [t for (t,c) in l if c == max(res_principles, res_tactics, res_skills, res_tools)]"
   ]
  },
  {
   "cell_type": "code",
   "execution_count": 970,
   "id": "e8468ca7-3fae-4c6a-ac00-31b487bf45e3",
   "metadata": {},
   "outputs": [],
   "source": [
    "def filterMD (md):\n",
    "    # REMOVE ALL THE CHECKLISTS\n",
    "    md = re.sub(r'\\#\\#\\#\\# [\\w\\s\\:\\?\\/\\(\\)\\\\;&]+\\n', '', md)\n",
    "    md = re.sub(r'\\#+', '', md)\n",
    "    md = re.sub(r'\\n-[\\s_]+(Sense|Explore|Develop|Test|Diffuse|Catalyze)', '', md)\n",
    "    md = re.sub(r'\\n-[\\s_]+(Exploration|Solutions mapping|Experimentation)', '', md)\n",
    "    md = re.sub(r'\\n-[\\s_]+(The advocate|The analyst|The communicator|The convener|The hustler|The project manager|The qualitative researcher|The visionary)', '', md)\n",
    "    md = re.sub(r'\\n-[\\s_]+(Framework, Model|Guide, Manual|Platform, Portal|Playbook, Toolkit|Worksheet, Canvas|Process|Pilots|Proof of concept|Prototyping)', '', md)\n",
    "    md = re.sub(r'\\n-[\\s_]+(Yes|No)', '', md)\n",
    "    md = re.sub(r'[_\\\\]+', ' ', md)\n",
    "    md = re.sub(r'\\s+', ' ', md)\n",
    "    return md.strip()"
   ]
  },
  {
   "cell_type": "code",
   "execution_count": 971,
   "id": "e2860155-b128-4a16-b864-d1e35cb8f163",
   "metadata": {},
   "outputs": [],
   "source": [
    "fromDB = True"
   ]
  },
  {
   "cell_type": "code",
   "execution_count": 972,
   "id": "47eef125-ec2d-4220-a35e-62bddf792406",
   "metadata": {},
   "outputs": [
    {
     "name": "stderr",
     "output_type": "stream",
     "text": [
      "/var/folders/19/g73r505957gcy4y0smw3kd6r0000gn/T/ipykernel_36787/2256331286.py:1: UserWarning: pandas only supports SQLAlchemy connectable (engine/connection) or database string URI or sqlite3 DBAPI2 connection. Other DBAPI2 objects are not tested. Please consider using SQLAlchemy.\n",
      "  data = pd.read_sql_query(query,con=conn)\n"
     ]
    }
   ],
   "source": [
    "if fromDB == True:\n",
    "    %run get_keywords.ipynb\n",
    "else:\n",
    "    source = '/Users/myjyby/Documents/Projects/Codification fest/Transcripts/Elements/Docs/'\n",
    "    seed_keywords = [(f, processMD(path.join(source, f)).value) for f in listdir(source) if f != '.DS_Store']"
   ]
  },
  {
   "cell_type": "code",
   "execution_count": 973,
   "id": "94bdb324-25c9-4ff5-8ecf-88d8e8b34f97",
   "metadata": {},
   "outputs": [],
   "source": [
    "if fromDB == False:\n",
    "    seed_keywords = [(w, filterMD(b), getType(b, w)[0]) for (w, b) in seed_keywords]"
   ]
  },
  {
   "cell_type": "code",
   "execution_count": 974,
   "id": "479ba71d-b84c-45f7-9552-596c76e2f30c",
   "metadata": {},
   "outputs": [],
   "source": [
    "# print([(w,t) for (w,b,t) in seed_keywords])"
   ]
  },
  {
   "cell_type": "code",
   "execution_count": 975,
   "id": "95955628-9ffe-4666-b491-cd17ed9709bf",
   "metadata": {},
   "outputs": [],
   "source": [
    "for w,b,t in seed_keywords:\n",
    "    if len(b) < 50:\n",
    "        print(w, len(b))\n",
    "\n",
    "seed_keywords = [(w,b,t) for (w,b,t) in seed_keywords if len(b) > 50]"
   ]
  },
  {
   "cell_type": "code",
   "execution_count": 976,
   "id": "f3a64c3a-573f-4b07-83aa-455e4af6acc1",
   "metadata": {},
   "outputs": [
    {
     "data": {
      "text/plain": [
       "('KoboToolbox for Mapping Solutions Nationwide',\n",
       " 'KoboToolbox for Mapping Solutions NationwideKoboToolbox for Mapping Solutions Nationwide\\n\\nImage: What does it look like?\\n\\nReference: Where can we find more information or download materials?\\nhttps://eu.kobotoolbox.org/accounts/login/\\n\\nDescription: What is it? (max 1,500 characters)\\nKoboToolbox is an open-source platform for the collection, management, and visualization of data.\\n\\nPurpose: Why do we use this method or tool for R&amp;D? (max 1,500 characters)\\nIt offers intuitive usability, tailored for efficient data collection without extensive technical training. Designed for challenging environments like humanitarian crises, it supports offline use on affordable mobile devices while providing advanced data management features. KoboToolbox allows easy migration between platforms, and supports multilingual survey forms, facilitating collaboration across global teams.\\n\\nSummary: Describe in one sentence, what it is and what it does? (max 120 characters)\\nA user-friendly platform for collecting quality data in challenging environments, offering free tools and multilingual support.\\n\\nInstructions: How is it used for R&amp;D? What steps to follow?\\nDesign the questionnaire/survey or data collection forms\\nBuild form using KoboToolbox intuitive interface\\nShare form to innovators whether online or offline\\nCollect and manage data on the platform\\nAnalyze data and present finding using tools, visualizations and presentation features on the platform\\n\\nRequirements: What is needed to effectively use it for R&amp;D? (e.g. skills, conditions, inputs, resources)\\nBasic knowledge using digital platforms and familiarity with survey design and data collection methods;\\nAvailability of internet access and mobile devices for data collection, as well as computers for data management and analysis;\\n\\nAdherence to ethical guidelines and regulations governing research data collection and participant privacy;\\n\\nTraining sessions or resources to ensure users understand how to effectively utilize features for data collection and analysis.\\n\\nReflections: What to keep in mind when using the tool for R&amp;D purposes?\\nEnsure survey design and data collection methods align closely with the research objectives;\\nRespect participant confidentiality and privacy - all participants should be informed of purpose and use of data collected;\\nContinuously evaluate and refine survey design and data collection methods based on feedback and insights gained\\n\\nType of tool: If it is a tool, what type of tool is it?\\nPlatform, Portal\\n\\nRelated methods: For which method(s) is this tool used?\\nmethods: (Community) Asset Mapping\\nmethods: Collective Intelligence\\nmethods: Data Visualisation\\nmethods: Ethnography\\nmethods: Solutions Mapping\\n\\nR&amp;D Activity: For which R&amp;D activity is this tool or method used?\\nSense\\nExplore\\n\\nRoles: Which role is this tool or methods associated with?\\nExploration\\nSolutions mapping\\n\\nCredit: Who developed the tool or method?\\nKoboToolbox was developed by the Harvard Humanitarian Initiative (HHI), a team of researchers and developers based at the Harvard T.H. Chan School of Public Health\\n\\nRecommended resources: Where can we find more information about this method or tool?\\nhttps://www.kobotoolbox.org/\\n\\nLicense: Under what kind of license is this tool or method available?\\nFree or open\\n\\nIn-house: Was this tool developed in-house by an Accelerator Lab?\\nNo\\n\\nLink to your work that uses this method or tool.\\nhttps://ee-eu.kobotoolbox.org/x/bRLGdHba\\xa0\\n\\n\\n\\nhttps://ee-eu.kobotoolbox.org/x/EWOwvfSV',\n",
       " 'Tools capture card')"
      ]
     },
     "execution_count": 976,
     "metadata": {},
     "output_type": "execute_result"
    }
   ],
   "source": [
    "seed_keywords[11]"
   ]
  },
  {
   "cell_type": "code",
   "execution_count": 977,
   "id": "a0762616-3ee2-4e0d-9598-c767470808b3",
   "metadata": {},
   "outputs": [],
   "source": [
    "embedTitle = False\n",
    "\n",
    "if embedTitle:\n",
    "    keyword_embeddings = [(w,t,embed(w)) for (w,b,t) in seed_keywords]\n",
    "else:\n",
    "    keyword_embeddings = [(w,t,embed(b)) for (w,b,t) in seed_keywords]"
   ]
  },
  {
   "cell_type": "code",
   "execution_count": 978,
   "id": "7ef09939-80bd-45d6-a407-6cd9f63b8c44",
   "metadata": {},
   "outputs": [],
   "source": [
    "def compare (e1, e2):\n",
    "    return util.pytorch_cos_sim(e1, e2).tolist()[0][0]"
   ]
  },
  {
   "cell_type": "code",
   "execution_count": 979,
   "id": "3828ec64-cd6d-4cf0-87e3-cd1079799075",
   "metadata": {},
   "outputs": [
    {
     "name": "stdout",
     "output_type": "stream",
     "text": [
      "__6\\_Violet\\_Zimbabwe__\n",
      "\n",
      "0:04 What is your name and what is your role in UNDP?\n",
      "\n",
      "[[Skills capture card:Focus on inclusion and diversity systems analysis,problem identification]]\n",
      "[[Skills capture card:Sharing Knowledge, training, and unusual partnership]]\n",
      "[[Skills capture card:Cross agency partnership]]\n",
      "[[Skills capture card:Reaching unreachable communities-unusual beneficiaries]]\n",
      "  \n",
      "My name is Rubinbo Violet Katio and I'm head of exploration for UNDP Zimbabwe\\.  \n",
      "Besides my role as head of Exploration, I'm also supporting the country office as a part of the technical team for the SDG Investor Map for Zimbabwe\\.\n",
      "\n",
      "\n",
      "[[Tools capture card:This guide provides an introduction to prototyping, explaining]]\n",
      "[[Principles capture card:Co-creation]]\n",
      "[[Tools capture card:Scaling partnerships by demonstrating value incrementally]]\n",
      "[[Skills capture card:Innovation management]]\n",
      "  \n",
      "0:24 Great, could you tell me about a research and development activity you would like to share? How did it come about and where did it start?\n",
      "\n",
      "\n",
      "[[Tools capture card:Understanding the Ecosystem when developing innovation]]\n",
      "[[Tools capture card:Scaling partnerships by demonstrating value incrementally]]\n",
      "[[Tools capture card:Innovation Ecosystem Map]]\n",
      "[[Tools capture card:Ecosystem mapping]]\n",
      "  \n",
      "  \n",
      "So I recently joined UNDP, I think this is my 4th month\\.  \n",
      "And one of the activities that I'm doing is ecosystem mapping to understand the tech ecosystem in Zimbabwe and also to understand the level of maturation in terms of the startups that we are doing in that we have in Zimbabwe\\.\n",
      "\n",
      "\n",
      "[[Principles capture card:Self-awareness]]\n",
      "[[Principles capture card:Co-creation]]\n",
      "[[Principles capture card:Inclusivity]]\n",
      "[[Principles capture card:Disruptiveness]]\n",
      "  \n",
      "1:00 So what sort of development issue that you're trying to to address with that assessment you are doing?\n",
      "\n",
      "\n",
      "[[Tools capture card:Scaling partnerships by demonstrating value incrementally]]\n",
      "[[Tools capture card:This guide provides an introduction to prototyping, explaining]]\n",
      "[[Tools capture card:Understanding the Ecosystem when developing innovation]]\n",
      "[[Tools capture card:Innovation Ecosystem Map]]\n",
      "  \n",
      "  \n",
      "So with ecosystem mapping, what I realized is for us to attract investment in Zimbabwe and to also solve some of the challenges that we are experiencing, we need to leverage on technology and innovation\\.  \n",
      "And for us to do that, we need to actually support the tech ecosystem to grow\\.  \n",
      "So one of the areas that I, I was looking at as an explorer is how many startups do we have in Zimbabwe?  \n",
      "If we have the startups, what is the level of maturation of the start\\-ups?  \n",
      "How many of them are actually at a stage where they are actually scaling and solving a particular problem in, in Zimbabwe?  \n",
      "I'll give you an example\\.  \n",
      "These human and wildlife conflict in Zimbabwe, right?  \n",
      "When you look at the wildlife and also the people who live in those areas where we've got the wildlife\\.  \n",
      "So when you look at the challenges that they're experiencing, how can we actually make use of technology to actually intervene and come up with solutions, whether it's drone technology or any other kind of technology that we may not know\\.  \n",
      "But for us to be able to integrate what our creators and innovators are doing, we need to know where they are, what is the kind of support we can give them so that they can actually leverage on the SDGS and actually become the the solvers of some of the challenges that we have as an ecosystem\\.\n",
      "\n",
      "\n",
      "[[Principles capture card:Collaboration]]\n",
      "[[Principles capture card:Risk analysis and trust from stakeholders ]]\n",
      "[[Principles capture card:Transparency]]\n",
      "[[Principles capture card:Inclusivity]]\n",
      "  \n",
      "2:29 In terms of stakeholders, who were the stakeholders involved in this initiative and what is their role and how is their input shaping or this R&D journey?\n",
      "\n",
      "\n",
      "[[Tools capture card:Understanding the Ecosystem when developing innovation]]\n",
      "[[Tools capture card:Innovation Ecosystem Map]]\n",
      "[[Tools capture card:Innovation Challenge]]\n",
      "[[Principles capture card:Recognize local expertise /Knowledge is produced from below: Nothing for us, without us]]\n",
      "  \n",
      "So when you look at ecosystem mapping or understanding the ecosystem, there are multiple stakeholders\\.  \n",
      "We've got the startups themselves, the innovators, right?  \n",
      "Then we've got innovation hubs, We have got institutions that are actually supporting the innovation hubs\\.  \n",
      "We have got the government ministries, we've got the community as well, right\\.\n",
      "\n",
      "\n",
      "[[Tools capture card:Scaling partnerships by demonstrating value incrementally]]\n",
      "[[Principles capture card:Collaboration]]\n",
      "[[Skills capture card:Sharing Knowledge, training, and unusual partnership]]\n",
      "[[Tools capture card:Innovation Challenge]]\n",
      "So you realize that this is a multi stakeholder initiative and in each stage I think every stakeholder is bringing some kind of value\\.  \n",
      "I'll talk about the private sector in Zimbabwe\\.  \n",
      "We have got institutions like banks who have set up innovation hubs within their premises\\.  \n",
      "So you find that the innovation hubs are not only spaces where innovators can can use as Co working spaces\\.  \n",
      "It's also a space where the the institutions that are hosting the innovators can actually collect data in terms of which kind of startups are registered as they are at the innovation hub, what kind of problems the setups are solving\\.  \n",
      "And then we've got community members who are actually experiencing certain challenges in the community having conversations with them\\.  \n",
      "And that helps us understand better in terms of what are the real challenges that our communities are experiencing\\.  \n",
      "Then we have got the startups\\.  \n",
      "The startups also have some kind of knowledge\\.  \n",
      "Why?  \n",
      "Because as they are begin building their solutions or their innovation, they've done a lot of market intelligence, they've done a lot of research to understand what is what are the biggest pain points in the communities that they are trying to build a solution for\\.  \n",
      "So it's a multi stakeholder initiative where everybody has something to say that is to the bigger picture\\.\n",
      "\n",
      "\n",
      "[[Tools capture card:Co-creation &amp; Emotional Intelligence]]\n",
      "[[Tools capture card:Nesta’s DIY Toolkit]]\n",
      "[[Tools capture card:Personas]]\n",
      "[[Skills capture card:Imagination]]\n",
      "  \n",
      "4:33 Awesome\\. So please tell us the the kind of tools and methods you are using and why and what factors influenced you to choose these tools\\.\n",
      "\n",
      "\n",
      "[[Principles capture card:Human centering and adaptability: Less of me, more of them]]\n",
      "[[Principles capture card:Recognize local expertise /Knowledge is produced from below: Nothing for us, without us]]\n",
      "[[Tools capture card:Ethnography]]\n",
      "[[Skills capture card:Cultural Adaptability]]\n",
      "  \n",
      "  \n",
      "OK, so I think when look at understanding the community, we need to tap into ethnographic skills\\.  \n",
      "Why ethnographic skills?  \n",
      "Ethnographic work helps us understand people's behavior based on their religion, based on their cultural values, and why they make certain decisions\\.  \n",
      "You know, and this is important in terms of the technology space because we've got early adopters and we've got late adopters\\.  \n",
      "The reason why somebody can be an early adopter could be because of their cultural values, right?  \n",
      "So doing ethnographic work is one of the tools that we're using and also taking a design thinking approach in the work that we're doing in terms of problem solving\\.  \n",
      "And the design thinking approach is very important in the sense that we have the persona at the centre of everything that we're doing\\.  \n",
      "We put the persona at the centre\\.  \n",
      "Then we under, we try to understand what are what are their biggest pin points?  \n",
      "What how do we transform their pin points into games\\.  \n",
      "And by that it means that we have solved a particular problem\\.  \n",
      "So mostly we are taking a design thinking approach in this and also doing a lot of ethnographic work\\.\n",
      "\n",
      "\n",
      "[[Tactics capture card:Share your value upfront, not budget]]\n",
      "[[Tactics capture card:\"Buy in\" means agreeing to a tangible commitment]]\n",
      "[[Tools capture card:Scaling partnerships by demonstrating value incrementally]]\n",
      "[[Principles capture card:Collaboration]]\n",
      "  \n",
      "5:55 Great\\. What are what tactics and approaches did you use to engage stakeholders to build their buy in or address the resistance to your R&D one?\n",
      "\n",
      "\n",
      "[[Principles capture card:Human centering and adaptability: Less of me, more of them]]\n",
      "[[Tools capture card:Collaborative design of actions]]\n",
      "[[Principles capture card:Empathy]]\n",
      "[[Principles capture card:Inclusivity]]\n",
      "  \n",
      "So in terms of tactics, I think it goes back to understanding the human like the human psychology and behavior\\.  \n",
      "As we have multiple stakeholders that we're working with, we realize that the approach in terms of engaging with them is different\\.  \n",
      "We've got people who are way up on the value chain and then we've got the community members in each stage\\.  \n",
      "You have to really understand maybe the the behavior of everybody along the chain\\.  \n",
      "So one of the things is really more on also being pers persuasive, you know, because there are a lot of resistance that you know, you come across as you try to understand a problem\\.  \n",
      "How do you have a conversation with somebody in a way that helps the other person to move along with you in your idea?  \n",
      "You know, because sometimes we are having this ambitious and audacious ideas in terms of how we can solve a certain problem\\.  \n",
      "But does the community really want that?  \n",
      "Do does the government really wants to open up to that?  \n",
      "The startup that we're targeting, do they really want to move along with that?  \n",
      "So having that ability to convince and be persuasive and also being very agile, right?  \n",
      "We're living in a very volatile world where things keep on changing\\.  \n",
      "How do you become very agile enough to pivot to the next thing if Plan A doesn't work, right?  \n",
      "So those are some of the tactics that I'm incorporating in the work that I'm doing, right\\.\n",
      "\n",
      "\n",
      "[[Tools capture card:Systemic Design ]]\n",
      "[[Principles capture card:Humain Centered Design]]\n",
      "[[Principles capture card:Care about the people the same amount you care about the solutions]]\n",
      "[[Tools capture card:Innovative approach - Design Thinking - Issue Mapping - Stakeholder Mapping\n",
      "]]\n",
      "  \n",
      "7:46 Can you elaborate the principles that guided your RND one, why they were important? What other ethical consideration, principle of inclusivity, equity, sustainability that guided your RND one?\n",
      "\n",
      "\n",
      "[[Principles capture card:Even when the Lab is not there (or UNDP) things should continue - we have t…]]\n",
      "[[Principles capture card:Recognize local expertise /Knowledge is produced from below: Nothing for us, without us]]\n",
      "[[Tools capture card:Scaling partnerships by demonstrating value incrementally]]\n",
      "[[Principles capture card:Collaboration]]\n",
      "  \n",
      "Yes\\.  \n",
      "So when you look at sustainability, for me, it's a very big issue because I think when, when a new technology or if you're solving a problem, you don't want to do it only for that particular time frame\\.  \n",
      "We want to be in that space where there's continuity, right\\.  \n",
      "So let's say, looking at one of the stakeholders that we have in, in this initiative, the startups, how do we support them so that there's continuity in the work that they're doing in terms of, you know, solving problems\\.  \n",
      "And then when you look at the digital skills training that we are also doing in the community, we are also looking at the ripple effects where we do the train the trainer model, where we, if it's a community, we, we train the key people in the community so that they can be able to do a ripple effect and keep on training people on digital schools in the future\\.  \n",
      "And, and then also, you know, this idea of not leaving other people behind, how do we reach all these other communities that are far and not usually reached?  \n",
      "We have we have designed initiatives where we move around the country, not only in the urban cities but also in remote areas and try to engage with the different stakeholders in those communities to see that as as we are solving certain problems\\.  \n",
      "We assess the level of maturation in terms of technology adoption in those communities and we tailor make our solutions based on that particular community\\.  \n",
      "Not having a one\\-size\\-fits\\-all approach, but literally taking a design thinking approach to understand what are the challenges in a community\\.  \n",
      "How do we come up with a tailor made solution for that particular community so that nobody is left behind?\n",
      "\n",
      "\n",
      "[[Skills capture card:Imagination]]\n",
      "[[Skills capture card:Reaching unreachable communities-unusual beneficiaries]]\n",
      "[[Skills capture card:Collective Intelligence ]]\n",
      "[[Skills capture card:Collective intelligence, video, visibility was key success, \"press advisor\"]]\n",
      "  \n",
      "9:51 Awesome\\. I want to understand the skills that you needed to effectively identify and understand the, the challenge you are trying to solve and the needs of you are in the initiative\\.\n",
      "\n",
      "\n",
      "[[Skills capture card:Analytical thinking]]\n",
      "[[Skills capture card:Imagination]]\n",
      "[[Skills capture card:Futures and Foresight]]\n",
      "[[Skills capture card:Horizon scanning]]\n",
      "  \n",
      "So analytical skills are very important\\.  \n",
      "I think for me, you know, being in that space where you, you, you see a challenge or even you, you look at the data that has been maybe generated from other stakeholders\\.  \n",
      "How do you look at that data, analyse that data and come up with a specific solution for whatever you're trying to, to solve\\.  \n",
      "So for me, having analytical skills very important\\.  \n",
      "And also, I don't know if it's a skill or maybe it's a tactic, but also being very visionary, right?  \n",
      "Because I think sometimes when you go in a space and there's this particular challenge, we may not see a bigger picture if you don't think beyond what you're seeing\\.  \n",
      "So having that ability to say, you know what, this is the reality that I'm seeing right now, but there could be more, there could be a positive change, you know, and, and framing your mindset to actually say, OK, we can build something that is bigger than what we're seeing\\.  \n",
      "And also emotional intelligence as well, because challenges are going to come, right?  \n",
      "A lot, a lot of them left, right and center\\.  \n",
      "But having that emotional intelligence that keeps you grounded and focused on what you're trying to achieve and keep on pushing and achieving the results\\.\n",
      "\n",
      "\n",
      "[[Tools capture card:From Insights to Impact:  Storytelling for Renewable Energy Solutions]]\n",
      "[[Tools capture card:Increasing community engagement through community-growing incentives]]\n",
      "[[Skills capture card:Making insights actionable]]\n",
      "[[Tools capture card:Participatory Future Thinking]]\n",
      "  \n",
      "11:21 Now reflecting on this journey of this initiative you're describing to us, what are what are the impact of what are the impact outcomes of your initiative of the journey so far?  \n",
      "Is there impact or outcome yet?\n",
      "\n",
      "\n",
      "[[Tools capture card:Understanding the Ecosystem when developing innovation]]\n",
      "[[Tools capture card:Innovation Ecosystem Map]]\n",
      "[[Tactics capture card:Working with ecosystem/Understand the ecosystem]]\n",
      "[[Tools capture card:Scaling partnerships by demonstrating value incrementally]]\n",
      "  \n",
      "  \n",
      "OK, so at the moment it's still in its early stages\\.  \n",
      "Like I mentioned, I've only been doing this work for the past four months, but what I can say for sure is we with ecosystem mapping, we wanted the whole idea was also to really engage and bring the tech ecosystem together\\.  \n",
      "So we've created WhatsApp group where we engage with different innovators, you know, from universities, innovation hubs and their conversations that are being held\\.  \n",
      "And in the next month, we're going to be hosting a meet and greets engagements where we bring all the ecosystem players together under one roof\\.  \n",
      "People get to know who's doing what and what are the how, what are the gifts where people can potentially collaborate\\.  \n",
      "So right now we cannot really tell a story of impact yet, but we can talk about some of the things that were not there that are now happening\\.  \n",
      "And hopefully next year we're going to have a different story\\.\n",
      "\n",
      "\n",
      "  \n",
      "12:41 If you had to start over with this initiative, what would you do different?\n",
      "\n",
      "[[Tools capture card:Increasing community engagement through community-growing incentives]]\n",
      "[[Tools capture card:Future Backwards]]\n",
      "[[Tools capture card:Participatory Future Thinking]]\n",
      "[[Principles capture card:Trust/Authenticity: Build trust as a must]]\n",
      "  \n",
      "  \n",
      "Okay, so I, I don't know if there's anything that I can do differently yet\\.  \n",
      "I think for now we are making very good progress and I'm very satisfied with the with the level of support and engagement from all the stakeholders because they've been waiting for really this opportunity where we have this whole blanket ecosystem coming under one roof and engaging with each other\\.  \n",
      "So, so far I don't see anything that I would have done differently\\.  \n",
      "But maybe next year I will look back and have a different story\\.\n",
      "\n",
      "\n",
      "[[Principles capture card:Trust]]\n",
      "[[Principles capture card:Trust/Authenticity: Build trust as a must]]\n",
      "[[Principles capture card:Risk analysis and trust from stakeholders ]]\n",
      "[[Skills capture card:Sharing Knowledge, training, and unusual partnership]]\n",
      "  \n",
      "13:21 Super\\. I want to understand the trust, the strategies or approaches you employed to facilitate the division and adoption of your initiative\\.\n",
      "\n",
      "\n",
      "[[Tools capture card:Innovative approach - Design Thinking - Issue Mapping - Stakeholder Mapping\n",
      "]]\n",
      "[[Principles capture card:Inclusivity]]\n",
      "[[Principles capture card:Recognize local expertise /Knowledge is produced from below: Nothing for us, without us]]\n",
      "[[Tactics capture card:Share your value upfront, not budget]]\n",
      "  \n",
      "So I think when I look at my approach, it was we go back to design thinking approach where you know, we were able to understand different challenges from different stakeholders that we were targeting\\.  \n",
      "For example, the pinpoint from startups was they need access to markets, they need opportunity to pitch for the ideas for investment\\.  \n",
      "They also want to be able to push their products into the community, right?  \n",
      "And then we've got communities\\.  \n",
      "For example, I gave an example of the human world life conflicts\\.  \n",
      "Communities are always complaining that elephants are getting into the community, eating their their crops, their people are being attacked by crocodiles, etcetera\\.  \n",
      "You know, so already we identified a challenge, right\\.  \n",
      "And then when you look at the government rights, recently Zimbabwe launched, formed a new ministry\\.  \n",
      "We use the Ministry of Skills audit and the whole idea of the ministry or maybe part of the mandate of the ministry is to actually identify what are the skills gap in, in Zimbabwe, What are people doing?  \n",
      "How do we map this, you know, different initiatives that people are doing in a way that can be documented and also add value to the bigger picture in terms of our our goals as a country\\.  \n",
      "So when we came up with this ecosystem, it wasn't just an ecosystem mapping, it wasn't only our idea\\.  \n",
      "It was an idea that was based on the conversations that we've had with different stakeholders where we actually understand that, understood that there was a need for these kind of services and we are now solving this for for different stakeholders\\.  \n",
      "So we're adding value\\.\n",
      "\n",
      "\n",
      "  \n",
      "15:23 Thank you so much for your time spent with us and the insight you shared\\. This is great\\.\n",
      "\n",
      "  \n",
      "All right\\.  \n",
      "Thank you so much for the time\\.\n",
      "\n",
      "\n",
      "\n",
      "\n"
     ]
    }
   ],
   "source": [
    "topTags = []\n",
    "useTypes = False\n",
    "\n",
    "output_string = ''\n",
    "\n",
    "for snippet in doc_embeddings:\n",
    "    if len(snippet[0]) > 100 and not snippet[0].startswith('#') :\n",
    "        distances = [(w,t,compare(e, snippet[1])) for (w,t,e) in keyword_embeddings]\n",
    "        distances.sort(key = lambda tup: tup[2], reverse = True)\n",
    "        types = list(set([t for (w,t,e) in keyword_embeddings]))\n",
    "        \n",
    "        if useTypes:\n",
    "            for t in types:\n",
    "                top_keyword = [w for (w, dt, e) in distances if dt == t][0]\n",
    "                keyword, extension = path.splitext(top_keyword)\n",
    "                output_string = output_string + \"[[{}:{}]]\".format(t.replace('capture card', '').strip().lower(), keyword)\n",
    "                output_string = output_string + '\\n'\n",
    "        else:\n",
    "            # print([(w, e) for (w, dt, e) in distances][0:3])\n",
    "            top_keyword = [(w, dt) for (w, dt, e) in distances][:4]\n",
    "            # output_string = output_string + \"[[{}]]\".format(top_keyword)\n",
    "            for w, dt in top_keyword:\n",
    "                keyword, extension = path.splitext(w)\n",
    "                output_string = output_string + \"[[{}:{}]]\".format(dt, keyword)\n",
    "                output_string = output_string + '\\n'\n",
    "            # output_string = output_string + '\\n\\n'\n",
    "\n",
    "        output_string = output_string + snippet[0]\n",
    "        output_string = output_string + '\\n\\n'\n",
    "        \n",
    "        topTags += [w for (w,t,e) in distances[:5]]\n",
    "        output_string = output_string + '\\n'\n",
    "        # print(snippet[0], distances[:5])\n",
    "    else:\n",
    "        output_string = output_string + snippet[0]\n",
    "        output_string = output_string + '\\n\\n'\n",
    "print(output_string)"
   ]
  },
  {
   "cell_type": "code",
   "execution_count": 980,
   "id": "bb3b85d6-2449-4042-a636-390754d64f1c",
   "metadata": {},
   "outputs": [],
   "source": [
    "def findDuplicates (l):\n",
    "    seen = set()\n",
    "    duplicates = []\n",
    "\n",
    "    for x in l:\n",
    "        if x in seen and x not in duplicates:\n",
    "            duplicates.append(x)\n",
    "        else:\n",
    "            seen.add(x)\n",
    "    return duplicates"
   ]
  },
  {
   "cell_type": "code",
   "execution_count": 981,
   "id": "11c281ef-8aa1-4b2e-822d-ad99b35250e8",
   "metadata": {},
   "outputs": [
    {
     "data": {
      "text/plain": [
       "['Scaling partnerships by demonstrating value incrementally',\n",
       " 'Creativity, organisation, open mind',\n",
       " 'Co-creation',\n",
       " 'This guide provides an introduction to prototyping, explaining',\n",
       " 'Understanding the Ecosystem when developing innovation',\n",
       " 'Innovation Ecosystem Map',\n",
       " 'Innovation Challenge',\n",
       " 'Inclusivity',\n",
       " 'Collaboration',\n",
       " 'Sharing Knowledge, training, and unusual partnership',\n",
       " 'Human centering and adaptability: Less of me, more of them',\n",
       " 'Recognize local expertise /Knowledge is produced from below: Nothing for us, without us',\n",
       " 'Ethnography',\n",
       " 'Disruptiveness',\n",
       " 'Imagination',\n",
       " 'Reaching unreachable communities-unusual beneficiaries',\n",
       " 'Futures and Foresight',\n",
       " 'Collective Intelligence\\xa0',\n",
       " 'Increasing community engagement through community-growing incentives.',\n",
       " 'Participatory Future Thinking',\n",
       " 'Collaborative design of actions. Collective intelligence for experimenting and scaling with others…',\n",
       " 'Trust',\n",
       " 'Trust/Authenticity: Build trust as a must',\n",
       " 'Risk analysis and trust from stakeholders\\xa0',\n",
       " 'Innovative approach - Design Thinking - Issue Mapping - Stakeholder Mapping\\n',\n",
       " 'Share your value upfront, not budget',\n",
       " 'Working with ecosystem/Understand the ecosystem']"
      ]
     },
     "execution_count": 981,
     "metadata": {},
     "output_type": "execute_result"
    }
   ],
   "source": [
    "findDuplicates(topTags)"
   ]
  },
  {
   "cell_type": "code",
   "execution_count": 982,
   "id": "79b6b567-6bd3-40e7-86c5-0b66706d7894",
   "metadata": {},
   "outputs": [
    {
     "data": {
      "text/plain": [
       "'Explorers_ZWE.md'"
      ]
     },
     "execution_count": 982,
     "metadata": {},
     "output_type": "execute_result"
    }
   ],
   "source": [
    "output_name = \"{}.md\".format('_'.join([t for t in file_name.split('/') if t != '..' and t != '.']))\n",
    "output_name"
   ]
  },
  {
   "cell_type": "code",
   "execution_count": 983,
   "id": "bb1df137-7f6f-4653-8d12-f18e9fff6146",
   "metadata": {},
   "outputs": [],
   "source": [
    "output_file = open(\"../stories/pages/{}\".format(output_name), 'w')\n",
    "output_file.write(output_string)\n",
    "output_file.close()"
   ]
  },
  {
   "cell_type": "code",
   "execution_count": null,
   "id": "244789e5-c95d-4627-b857-ced8688625a4",
   "metadata": {},
   "outputs": [],
   "source": []
  }
 ],
 "metadata": {
  "kernelspec": {
   "display_name": "Python 3 (ipykernel)",
   "language": "python",
   "name": "python3"
  },
  "language_info": {
   "codemirror_mode": {
    "name": "ipython",
    "version": 3
   },
   "file_extension": ".py",
   "mimetype": "text/x-python",
   "name": "python",
   "nbconvert_exporter": "python",
   "pygments_lexer": "ipython3",
   "version": "3.12.7"
  }
 },
 "nbformat": 4,
 "nbformat_minor": 5
}
