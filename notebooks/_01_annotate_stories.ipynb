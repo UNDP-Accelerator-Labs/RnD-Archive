{
  "cells": [
    {
      "cell_type": "code",
      "execution_count": 853,
      "id": "389eacaa-bd7c-4ac5-a4a2-5b60edf5e9eb",
      "metadata": {},
      "outputs": [],
      "source": [
        "from sentence_transformers import SentenceTransformer, util\n",
        "# import mammoth # THIS IS FOR CONVERTING THE DOCX TO MD\n",
        "from os import path, listdir\n",
        "import re"
      ]
    },
    {
      "cell_type": "code",
      "execution_count": 854,
      "id": "4dbfa708-ff4e-442f-8d96-87b838c27f9b",
      "metadata": {},
      "outputs": [],
      "source": [
        "model = SentenceTransformer('sentence-transformers/paraphrase-MiniLM-L6-v2')"
      ]
    },
    {
      "cell_type": "code",
      "execution_count": 855,
      "id": "41fafbed-45a8-433d-8eb0-f7ea6a0c580d",
      "metadata": {},
      "outputs": [],
      "source": [
        "%run load_docx.ipynb"
      ]
    },
    {
      "cell_type": "code",
      "execution_count": 856,
      "id": "28178b40-028b-4230-93a8-630d021f90c4",
      "metadata": {},
      "outputs": [],
      "source": [
        "file = '../Experimenters_SWY.docx'"
      ]
    },
    {
      "cell_type": "code",
      "execution_count": 857,
      "id": "c6b7125e-51f1-49f1-a361-1f329b7b0e57",
      "metadata": {
        "scrolled": true
      },
      "outputs": [],
      "source": [
        "file_name, file_extension = path.splitext(file)"
      ]
    },
    {
      "cell_type": "code",
      "execution_count": 858,
      "id": "4fdecca2-035f-4d15-a78c-fd79d7c6d341",
      "metadata": {},
      "outputs": [
        {
          "name": "stdout",
          "output_type": "stream",
          "text": [
            "[]\n"
          ]
        }
      ],
      "source": [
        "if file_extension == '.docx':\n",
        "    # doc = processDoc(file)\n",
        "    md = processMD(file)\n",
        "    # with open(file, \"rb\") as docx_file:\n",
        "    #     md = mammoth.convert_to_markdown(docx_file)\n",
        "        # len(doc[2:3][0])\n",
        "print(md.messages)"
      ]
    },
    {
      "cell_type": "code",
      "execution_count": 859,
      "id": "814ac444-65da-4669-a16c-719f1a150eeb",
      "metadata": {},
      "outputs": [],
      "source": [
        "doc = md.value.split('\\n\\n')"
      ]
    },
    {
      "cell_type": "code",
      "execution_count": 860,
      "id": "fdf8b431-87e4-4dff-ae18-6626acc92ccb",
      "metadata": {},
      "outputs": [],
      "source": [
        "def embed (string):\n",
        "    return model.encode(string)"
      ]
    },
    {
      "cell_type": "code",
      "execution_count": 861,
      "id": "2e6f40ab-978b-4f44-8cda-26feaabaa8a3",
      "metadata": {},
      "outputs": [],
      "source": [
        "doc_embeddings = [(s,embed(s)) for s in doc]"
      ]
    },
    {
      "cell_type": "code",
      "execution_count": 862,
      "id": "81d6f0ae-2503-4f03-b743-1e42ee8566c7",
      "metadata": {},
      "outputs": [],
      "source": [
        "def getType (md, w):\n",
        "    principle = 'Purpose/ reason: Why is this important?'\n",
        "    tactic = r'Tactic description: When do you apply this tactic\\? How does it work\\?'\n",
        "    skill = r'Skills description: What does the ability help you do, achieve, or produce\\?'\n",
        "    tool = r'(Type of tool: If it is a tool, what type of tool is it\\?|Short description: Describe in one sentence what the tool\\/ method is, and what it does\\.|Description of the tool: what is it\\?)'\n",
        "\n",
        "    res_principles = len(re.findall(principle, md))\n",
        "    res_tactics = len(re.findall(tactic, md))\n",
        "    res_skills = len(re.findall(skill, md))\n",
        "    res_tools = len(re.findall(tool, md))\n",
        "\n",
        "    # if res_principles == 0 and res_tactics == 0 and res_skills == 0 and res_tools == 0:\n",
        "    print(w)\n",
        "    print('pinciples', res_principles)\n",
        "    print('tactics', res_tactics)\n",
        "    print('skills', res_skills)\n",
        "    print('tools', res_tools)\n",
        "    print('\\n')\n",
        "\n",
        "    l = [('principles', res_principles), ('tactics', res_tactics), ('skills', res_skills), ('tools', res_tools)]\n",
        "    return [t for (t,c) in l if c == max(res_principles, res_tactics, res_skills, res_tools)]"
      ]
    },
    {
      "cell_type": "code",
      "execution_count": 863,
      "id": "e8468ca7-3fae-4c6a-ac00-31b487bf45e3",
      "metadata": {},
      "outputs": [],
      "source": [
        "def filterMD (md):\n",
        "    # REMOVE ALL THE CHECKLISTS\n",
        "    md = re.sub(r'\\#\\#\\#\\# [\\w\\s\\:\\?\\/\\(\\)\\\\;&]+\\n', '', md)\n",
        "    md = re.sub(r'\\#+', '', md)\n",
        "    md = re.sub(r'\\n-[\\s_]+(Sense|Explore|Develop|Test|Diffuse|Catalyze)', '', md)\n",
        "    md = re.sub(r'\\n-[\\s_]+(Exploration|Solutions mapping|Experimentation)', '', md)\n",
        "    md = re.sub(r'\\n-[\\s_]+(The advocate|The analyst|The communicator|The convener|The hustler|The project manager|The qualitative researcher|The visionary)', '', md)\n",
        "    md = re.sub(r'\\n-[\\s_]+(Framework, Model|Guide, Manual|Platform, Portal|Playbook, Toolkit|Worksheet, Canvas|Process|Pilots|Proof of concept|Prototyping)', '', md)\n",
        "    md = re.sub(r'\\n-[\\s_]+(Yes|No)', '', md)\n",
        "    md = re.sub(r'[_\\\\]+', ' ', md)\n",
        "    md = re.sub(r'\\s+', ' ', md)\n",
        "    return md.strip()"
      ]
    },
    {
      "cell_type": "code",
      "execution_count": 864,
      "id": "e2860155-b128-4a16-b864-d1e35cb8f163",
      "metadata": {},
      "outputs": [],
      "source": [
        "fromDB = True"
      ]
    },
    {
      "cell_type": "code",
      "execution_count": 865,
      "id": "47eef125-ec2d-4220-a35e-62bddf792406",
      "metadata": {},
      "outputs": [
        {
          "name": "stderr",
          "output_type": "stream",
          "text": [
            "/var/folders/19/g73r505957gcy4y0smw3kd6r0000gn/T/ipykernel_6226/2256331286.py:1: UserWarning: pandas only supports SQLAlchemy connectable (engine/connection) or database string URI or sqlite3 DBAPI2 connection. Other DBAPI2 objects are not tested. Please consider using SQLAlchemy.\n",
            "  data = pd.read_sql_query(query,con=conn)\n"
          ]
        }
      ],
      "source": [
        "if fromDB == True:\n",
        "    %run get_keywords.ipynb\n",
        "else:\n",
        "    source = '/Users/myjyby/Documents/Projects/Codification fest/Transcripts/Elements/Docs/'\n",
        "    seed_keywords = [(f, processMD(path.join(source, f)).value) for f in listdir(source) if f != '.DS_Store']"
      ]
    },
    {
      "cell_type": "code",
      "execution_count": 866,
      "id": "94bdb324-25c9-4ff5-8ecf-88d8e8b34f97",
      "metadata": {},
      "outputs": [],
      "source": [
        "if fromDB == False:\n",
        "    seed_keywords = [(w, filterMD(b), getType(b, w)[0]) for (w, b) in seed_keywords]"
      ]
    },
    {
      "cell_type": "code",
      "execution_count": 867,
      "id": "479ba71d-b84c-45f7-9552-596c76e2f30c",
      "metadata": {},
      "outputs": [],
      "source": [
        "# print([(w,t) for (w,b,t) in seed_keywords])"
      ]
    },
    {
      "cell_type": "code",
      "execution_count": 868,
      "id": "95955628-9ffe-4666-b491-cd17ed9709bf",
      "metadata": {},
      "outputs": [],
      "source": [
        "for w,b,t in seed_keywords:\n",
        "    if len(b) < 50:\n",
        "        print(w, len(b))\n",
        "\n",
        "seed_keywords = [(w,b,t) for (w,b,t) in seed_keywords if len(b) > 50]"
      ]
    },
    {
      "cell_type": "code",
      "execution_count": 869,
      "id": "f3a64c3a-573f-4b07-83aa-455e4af6acc1",
      "metadata": {},
      "outputs": [
        {
          "data": {
            "text/plain": [
              "('KoboToolbox for Mapping Solutions Nationwide',\n",
              " 'KoboToolbox for Mapping Solutions NationwideKoboToolbox for Mapping Solutions Nationwide\\n\\nImage: What does it look like?\\n\\nReference: Where can we find more information or download materials?\\nhttps://eu.kobotoolbox.org/accounts/login/\\n\\nDescription: What is it? (max 1,500 characters)\\nKoboToolbox is an open-source platform for the collection, management, and visualization of data.\\n\\nPurpose: Why do we use this method or tool for R&amp;D? (max 1,500 characters)\\nIt offers intuitive usability, tailored for efficient data collection without extensive technical training. Designed for challenging environments like humanitarian crises, it supports offline use on affordable mobile devices while providing advanced data management features. KoboToolbox allows easy migration between platforms, and supports multilingual survey forms, facilitating collaboration across global teams.\\n\\nSummary: Describe in one sentence, what it is and what it does? (max 120 characters)\\nA user-friendly platform for collecting quality data in challenging environments, offering free tools and multilingual support.\\n\\nInstructions: How is it used for R&amp;D? What steps to follow?\\nDesign the questionnaire/survey or data collection forms\\nBuild form using KoboToolbox intuitive interface\\nShare form to innovators whether online or offline\\nCollect and manage data on the platform\\nAnalyze data and present finding using tools, visualizations and presentation features on the platform\\n\\nRequirements: What is needed to effectively use it for R&amp;D? (e.g. skills, conditions, inputs, resources)\\nBasic knowledge using digital platforms and familiarity with survey design and data collection methods;\\nAvailability of internet access and mobile devices for data collection, as well as computers for data management and analysis;\\n\\nAdherence to ethical guidelines and regulations governing research data collection and participant privacy;\\n\\nTraining sessions or resources to ensure users understand how to effectively utilize features for data collection and analysis.\\n\\nReflections: What to keep in mind when using the tool for R&amp;D purposes?\\nEnsure survey design and data collection methods align closely with the research objectives;\\nRespect participant confidentiality and privacy - all participants should be informed of purpose and use of data collected;\\nContinuously evaluate and refine survey design and data collection methods based on feedback and insights gained\\n\\nType of tool: If it is a tool, what type of tool is it?\\nPlatform, Portal\\n\\nRelated methods: For which method(s) is this tool used?\\nmethods: (Community) Asset Mapping\\nmethods: Collective Intelligence\\nmethods: Data Visualisation\\nmethods: Ethnography\\nmethods: Solutions Mapping\\n\\nR&amp;D Activity: For which R&amp;D activity is this tool or method used?\\nSense\\nExplore\\n\\nRoles: Which role is this tool or methods associated with?\\nExploration\\nSolutions mapping\\n\\nCredit: Who developed the tool or method?\\nKoboToolbox was developed by the Harvard Humanitarian Initiative (HHI), a team of researchers and developers based at the Harvard T.H. Chan School of Public Health\\n\\nRecommended resources: Where can we find more information about this method or tool?\\nhttps://www.kobotoolbox.org/\\n\\nLicense: Under what kind of license is this tool or method available?\\nFree or open\\n\\nIn-house: Was this tool developed in-house by an Accelerator Lab?\\nNo\\n\\nLink to your work that uses this method or tool.\\nhttps://ee-eu.kobotoolbox.org/x/bRLGdHba\\xa0\\n\\n\\n\\nhttps://ee-eu.kobotoolbox.org/x/EWOwvfSV',\n",
              " 'Tools capture card')"
            ]
          },
          "execution_count": 869,
          "metadata": {},
          "output_type": "execute_result"
        }
      ],
      "source": [
        "seed_keywords[11]"
      ]
    },
    {
      "cell_type": "code",
      "execution_count": 870,
      "id": "a0762616-3ee2-4e0d-9598-c767470808b3",
      "metadata": {},
      "outputs": [],
      "source": [
        "embedTitle = False\n",
        "\n",
        "if embedTitle:\n",
        "    keyword_embeddings = [(w,t,embed(w)) for (w,b,t) in seed_keywords]\n",
        "else:\n",
        "    keyword_embeddings = [(w,t,embed(b)) for (w,b,t) in seed_keywords]"
      ]
    },
    {
      "cell_type": "code",
      "execution_count": 871,
      "id": "7ef09939-80bd-45d6-a407-6cd9f63b8c44",
      "metadata": {},
      "outputs": [],
      "source": [
        "def compare (e1, e2):\n",
        "    return util.pytorch_cos_sim(e1, e2).tolist()[0][0]"
      ]
    },
    {
      "cell_type": "code",
      "execution_count": 872,
      "id": "3828ec64-cd6d-4cf0-87e3-cd1079799075",
      "metadata": {},
      "outputs": [
        {
          "name": "stdout",
          "output_type": "stream",
          "text": [
            "# Experimenter\\-Eswatini\\-Zandile Mthembu\n",
            "\n",
            "###   \n",
            "\\[\\[0:00\\]\\] Tell me your name and your title and say I give consent to this recording\\.\n",
            "\n",
            "[[Tools capture card:Signals scanning\n",
            "]]\n",
            "[[Tools capture card:Randomized Controlled Trials]]\n",
            "[[Tools capture card:Key Informant Interviews]]\n",
            "[[Tools capture card:Horizon scanning]]\n",
            "I'm Zandile in Tembu\\. I'm head of experimentation at UNDP from the Kingdom of a Swat Dini\\. I give consent to this recording\\.\n",
            "\n",
            "\n",
            "###   \n",
            "\\[\\[0:16\\]\\] Over to you and one other question\\.\n",
            "\n",
            "###   \n",
            "\\[\\[0:49\\]\\] So can you tell me about an Rnd activity  you would like to share?\n",
            "\n",
            "[[Tools capture card:Innovation Challenge]]\n",
            "[[Skills capture card:Sharing Knowledge, training, and unusual partnership]]\n",
            "[[Skills capture card:Collective intelligence, video, visibility was key success, \"press advisor\"]]\n",
            "[[Tools capture card:Innovation Challenge merged with blended financing ]]\n",
            "So I'd like to share an A most recent R&D activity that we're working on\\. Currently in my country, there's been a lot of attention around digital transformation\\. So it's not just digital transformation in terms of tech, but it's also mostly on artificial intelligence, access to Internet, inclusivity, and a whole lot of other facets that have to do with transformation\\. So yeah, that's what I'd like to share about\\. So can you share where did this started and how, how, how did this come about? Yeah, so I suppose this has come about through because we are a global village\\. We are seeing a lot of countries transforming at a very, very fast pace\\. We started to realize that education the way that we knew it to be is no longer actually preparing our children for the future\\. That is heavily digital\\. And I think as a parent myself and as well as a development worker, I've realized that we realized that this is a trend\\. And when we looked at our, our country in, in that sense, we then realized that it is also a topical conversation in conferences, on the news, the government, the, you know, everybody is talking about a digital transformation in some way or some in, in, in every forum\\. So with we, we, we, with us being the ACT lab and also keeping our ears on the ground, we realised that this is very, it's a topical issue\\. And then apart from that, consequently within our country office, our programs team came in and said we really need to start supporting our government in this area because they are, they've started rolling out a number of projects and they have been crying out for support and help\\. And it really became something that we had to really narrow down and take a deep dive\\.\n",
            "\n",
            "\n",
            "###   \n",
            "\\[\\[3:08\\]\\] So can you share the specific development issue that this effort is is gearing to address it?\n",
            "\n",
            "[[Tools capture card:Innovation Challenge]]\n",
            "[[Tools capture card:Innovation Challenge merged with blended financing ]]\n",
            "[[Principles capture card:Even when the Lab is not there (or UNDP) things should continue - we have t…]]\n",
            "[[Tools capture card:Scaling partnerships by demonstrating value incrementally]]\n",
            "Yeah, This, this, this development challenge is, is quite big in the sense that if you if you don't jump on the digital work on fast enough, it means that you, you, you, the development agenda for that country is also going to be affected in in a very, very big way, particularly with the young people\\. We're starting to realise that there's serious problems around youth unemployment and the way that we knew employment to be is no longer working\\. So there's a lot of industries that we haven't tapped into in terms of the digital space\\. There's now countries that are trading skills that are digital\\. There's also digital services\\. There's quite a number\\. There's a bouquet of development challenges can that can be solved by a simple migration\\. And also not just that, it's also the access to services that if you are right now, if you're there's, there's so many inconveniences about the manual processes that we have all been used to\\. So if you have government in your pocket, for example, which is one of the big projects that our government has actually aspired to begin this year, it is something that we, we thought we could really look into\\.\n",
            "\n",
            "\n",
            "###   \n",
            "\\[\\[4:52\\]\\] Who is currently involved in the city state holidays? Who is currently involved in your journey And, and what are the Yeah, currently we have the Ministry of Information and Technology and telecommunications and, and technology involved\\.\n",
            "\n",
            "[[Tools capture card:Innovation Challenge merged with blended financing ]]\n",
            "[[Principles capture card:Never deplete social capital, always increase social capital]]\n",
            "[[Tools capture card:Scaling partnerships by demonstrating value incrementally]]\n",
            "[[Tools capture card:Increasing community engagement through community-growing incentives]]\n",
            "We've got a number of other ministries and the ministries that serve under the, the, the Cabinet Office of the Prime Ministers, and we've got a number of ministries that are coming in, trickling in through and requesting for some sort of digital support\\. So it's government in in a nutshell\\. It's also the private sector\\. There's a lot of missed opportunities that have been realized in trade because of the slow pace maybe that we have been moving in transforming like digital payments and small businesses are not able to fully, you know, trade with the global world\\. And also there's, there's the, the part of technophobia that we need to address\\. And there's the people that have come in and said, you know, I'm worried that I'll lose my job\\. How can I quickly trans or transform to a digital, you know, skilled person? And it's not just that it's, it's, it's government, it's people, it's private sector, it's, it's just the citizens in general\\.\n",
            "\n",
            "\n",
            "###   \n",
            "\\[\\[6:20\\]\\] So what tools and methods do you use to do what you guess this way?\n",
            "\n",
            "[[Tools capture card:Visibility and communication]]\n",
            "[[Tools capture card:Collaborative design of actions]]\n",
            "[[Skills capture card:Sharing Knowledge, training, and unusual partnership]]\n",
            "[[Tools capture card:Citizen Science and gamification using digital platform to crowdsource solutions]]\n",
            "We used mostly traditional, both traditional and digital tools in actually identifying, you know, maybe let me say start off with exploring of this challenge\\. When I say digital, there's a lot of social media content which is valid to consider in our work\\. A lot of conversations is as happening on social media, Facebook and all these other platforms and there's conversations that are happening, dialogues that are put on YouTube\\. So we we were using communication tools mostly to understand this problem in depth\\. We've had a lot of in focus group discussions, we've had bilateral conversations\\. So it's been a multiple number of tools that we've been using to better understand the the challenge and also start investigating the ecosystem and who the players are\\.\n",
            "\n",
            "\n",
            "###   \n",
            "\\[\\[8:17\\]\\] So what was the outcome of your R&D journey say again, So what was the outcome of your R&D journey?\n",
            "\n",
            "[[Principles capture card:Even when the Lab is not there (or UNDP) things should continue - we have t…]]\n",
            "[[Tools capture card:Participatory Future Thinking]]\n",
            "[[Tools capture card:Collaborative design of actions]]\n",
            "[[Tools capture card:Scaling partnerships by demonstrating value incrementally]]\n",
            "So the, the, the journey is still on for us\\. I'd say it's still on because we've pretty much done been focused on focusing on the exploratory part of it I'd say for two years now\\. And then it's only this year that we really decided to focus fully and start putting together some resources for it\\. And, and I think one of the greatest outcomes for us is to us to get support from the country office management and the trust that we can do it as the accelerator lab and also giving us the liberty to come and provide advice with what we have gathered out there\\.\n",
            "\n",
            "\n",
            "###   \n",
            "\\[\\[9:14\\]\\] How did or will your work impact sustainable development?\n",
            "\n",
            "[[Tools capture card:Innovation Challenge]]\n",
            "[[Tools capture card:Scaling partnerships by demonstrating value incrementally]]\n",
            "[[Tools capture card:Innovation Challenge merged with blended financing ]]\n",
            "[[Tools capture card:The Future, Backwards]]\n",
            "Our work was, I believe that it will impact sustainable development in a great way, in the most positive way because digital did the digital world that we live in\\. And I'm sure in the next few years, it's going to be even, it's going to change our lives in a way that we cannot imagine\\. And the development achievements that we will, you know, be excited about in the next few years will definitely have a form of digital influence in them\\. So I do believe that digital transformation has got a huge role to play in, in meeting our development goals\\.\n",
            "\n",
            "\n",
            "###   \n",
            "\\[\\[10:07\\]\\] What would you do differently if you had to start?\n",
            "\n",
            "[[Tools capture card:Scaling partnerships by demonstrating value incrementally]]\n",
            "[[Tools capture card:Collaborative design of actions]]\n",
            "[[Tools capture card:Innovation Challenge merged with blended financing ]]\n",
            "[[Principles capture card:Collaboration]]\n",
            "If I were to start again, I think how we would move a little bit more faster in our exploratory phase\\. One of the new partners that I, I recently learnt about were the international agencies outside the UN and also the corporate partners that the UN has already on boarded on this journey\\. And I think there's a lot of leverage that we have identified leveraging points that we've identified because there's highly skilled experts in those units that have started providing some valuable and tangible guidance for us to, you know, be the ambassadors, the digital Transformers and to also provide valuable support in, in this, in this path\\.\n",
            "\n",
            "\n",
            "###   \n",
            "\\[\\[11:05\\]\\] So what strategies are approaches that you employ to facilitate the diffusion and adoption of your R&D outcomes?\n",
            "\n",
            "[[Principles capture card:Deep listening to map beyond the tangible: Listen deep and show you are listening]]\n",
            "[[Tools capture card:Collaborative design of actions]]\n",
            "[[Tools capture card:Citizen Science and gamification using digital platform to crowdsource solutions]]\n",
            "[[Principles capture card:Human centering and adaptability: Less of me, more of them]]\n",
            "Yes, we've again, there's this different strategies that we have employed and to look at the diffusion mostly because the, the exciting part about digitization is because it's, it's been more of a pull than a push from for us\\. And you know, like the marketing terms that the push pull strategies\\. But, but in this case we've, we've found we are, we are in an ecosystem where everybody is ready to absorb and, and, and actually listen to this story of digitisation\\. So the minute we start discussing anything to do with it, it was just scaling on its own and receiving the support and attention\\. So for us, it wasn't really difficult to, you know, think hard about different and technique, highly specialized strategies\\. But I think the the other one that I wanted to mention is the partnership strong\\. Identifying strong partners has been one of the key strategies that we have identified that help us to be the trust one of the trusted partners on this on this journey\\. For instance, when we have meetings for with the academia and also experts in the field, it's easy for all the other stakeholders to trust that what we are providing as guidance is something worth listening to\\.\n",
            "\n",
            "\n",
            "###   \n",
            "\\[\\[12:46\\] How did you engage with policymakers?\n",
            "\n",
            "[[Principles capture card:Collaboration]]\n",
            "[[Principles capture card:Recognize local expertisew: Nothing for us, without us]]\n",
            "[[Principles capture card:Recognize and promote agency: Enable agency, the greatest choice for the greatest number]]\n",
            "[[Tools capture card:Collaborative design of actions]]\n",
            "Private sector communities are other key actors to capitalize rather change our impact based on your R&D work\\. Since we just began on this journey, we, we haven't really been aggressive in our engagements\\. But one of the plans that we have right now is to start having workshops\\. Firstly, we are on, we're currently up just about to roll out the digital readiness assessment for our country and we are planning on launching it with a workshop\\. And that's one of the strategies that we wanted to to deploy so that everyone kind of understands where we are going, sees the road map, sees the value\\. And then because these are different partners, there's different ways of engaging that we will definitely be employing private sector for instance, once a certain way of engagement and how we package our proposition to them and why we are doing this and what is it that they can contribute so that they are issues are also taken into consideration\\.\n",
            "\n",
            "\n",
            "###   \n",
            "\\[\\[14:07\\]\\] Which one Skills, Yeah, what skills we're needing to effectively identify, understand the challenges or needs that your R&D were aimed to address\\.\n",
            "\n",
            "[[Skills capture card:Sharing Knowledge, training, and unusual partnership]]\n",
            "[[Skills capture card:System analysis and complex design ]]\n",
            "[[Skills capture card:Reaching unreachable communities-unusual beneficiaries]]\n",
            "[[Skills capture card:Collective Intelligence ]]\n",
            "I think what I've what I'm realising more and more is that it's important to have the right mix of skills you need, that you're the technical skills present in your team\\. You need someone that's going to bring in the the development aspects of it\\. You need, you need a very good mix of of project management as well, because there's always, there's a lot to be done\\. You need data collectors because right now it is very difficult to better understand the infrastructural issues and gaps that we currently have\\. So we need research researchers, which is what we believe we are offering\\. We need data scientists, people that can give us the, the, the, the give us, you know, help us monitor the progress with numbers, tangible numbers so that we, we, we can easily measure our progress with time\\. We need people that can that are ICT or technically competent in this area so that we know that everything that is being put on the table has been quality assured and it has been well thought through in what we are providing as as guidance\\. And I think one of the one other thing is that it's always easy for someone to say, I need an, A website without really understanding what it takes to build a website and where they have to start and where the initiation, what the initiation activities should entail\\. And I think having someone that can properly guide you through with this process is also another important skill to consider, having your own board\\. And I think with the, with the ACT labs having invested so much time in learning and understanding the digital transformative journey and having such a large network of countries that have done amazing work\\. We've, we've heard of other labs having done their Dras 2 years back and US only starting just now\\. We have such a very good, I'd say resource of experts already within the network to support this kind of work in the context of an R&D perspective for UNDP in Swatini, not just in Swatini, but to then inform UND PS work globally\\.\n",
            "\n",
            "\n",
            "###   \n",
            "\\[\\[17:04\\]\\] What other skills were essential during your journey away? What other skills were essential during your journey away?\n",
            "\n",
            "[[Skills capture card:Digital Skills]]\n",
            "[[Skills capture card:Imagination]]\n",
            "[[Skills capture card:Comm. skills: ability to engage community/partners-- ability to convey and express problems in a c…]]\n",
            "[[Skills capture card:Comm]]\n",
            "Yes, I think the most important skills is to is to learn\\. I'm personally not an ICT expert\\. I'm not a computer scientist, but ever since we started this journey, I've stretched myself a little bit more to understand and to learn\\. And I know that sometimes there's people who have been skilled in, in computer science, but the computer science that they've learned, they learnt 10 years ago is no longer the same today\\. So I think it's, it's an important skill to just learn and learn, learn and relearn\\. I don't know if I'm putting it properly, but it's important to just allow yourself to, to absorb this to, to keep on risking ourselves because data science, big data, artificial intelligence and all these are new concepts that we haven't, you know, been trained on\\. But it means we just need to go back and and and relearn\\.\n",
            "\n",
            "\n",
            "###   \n",
            "\\[\\[18:26\\]\\] Thank you for your time and insights\\.\n",
            "\n",
            "Thank you\\.\n",
            "\n",
            "\n",
            "\n",
            "\n"
          ]
        }
      ],
      "source": [
        "topTags = []\n",
        "useTypes = False\n",
        "\n",
        "output_string = ''\n",
        "\n",
        "for snippet in doc_embeddings:\n",
        "    if len(snippet[0]) > 100 and not snippet[0].startswith('#') :\n",
        "        distances = [(w,t,compare(e, snippet[1])) for (w,t,e) in keyword_embeddings]\n",
        "        distances.sort(key = lambda tup: tup[2], reverse = True)\n",
        "        types = list(set([t for (w,t,e) in keyword_embeddings]))\n",
        "        \n",
        "        if useTypes:\n",
        "            for t in types:\n",
        "                top_keyword = [w for (w, dt, e) in distances if dt == t][0]\n",
        "                keyword, extension = path.splitext(top_keyword)\n",
        "                output_string = output_string + \"[[{}:{}]]\".format(t.replace('capture card', '').strip().lower(), keyword)\n",
        "                output_string = output_string + '\\n'\n",
        "        else:\n",
        "            # print([(w, e) for (w, dt, e) in distances][0:3])\n",
        "            top_keyword = [(w, dt) for (w, dt, e) in distances][:4]\n",
        "            # output_string = output_string + \"[[{}]]\".format(top_keyword)\n",
        "            for w, dt in top_keyword:\n",
        "                keyword, extension = path.splitext(w)\n",
        "                output_string = output_string + \"[[{}:{}]]\".format(dt, keyword)\n",
        "                output_string = output_string + '\\n'\n",
        "            # output_string = output_string + '\\n\\n'\n",
        "\n",
        "        output_string = output_string + snippet[0]\n",
        "        output_string = output_string + '\\n\\n'\n",
        "        \n",
        "        topTags += [w for (w,t,e) in distances[:5]]\n",
        "        output_string = output_string + '\\n'\n",
        "        # print(snippet[0], distances[:5])\n",
        "    else:\n",
        "        output_string = output_string + snippet[0]\n",
        "        output_string = output_string + '\\n\\n'\n",
        "print(output_string)"
      ]
    },
    {
      "cell_type": "code",
      "execution_count": 873,
      "id": "bb3b85d6-2449-4042-a636-390754d64f1c",
      "metadata": {},
      "outputs": [],
      "source": [
        "def findDuplicates (l):\n",
        "    seen = set()\n",
        "    duplicates = []\n",
        "\n",
        "    for x in l:\n",
        "        if x in seen and x not in duplicates:\n",
        "            duplicates.append(x)\n",
        "        else:\n",
        "            seen.add(x)\n",
        "    return duplicates"
      ]
    },
    {
      "cell_type": "code",
      "execution_count": 874,
      "id": "11c281ef-8aa1-4b2e-822d-ad99b35250e8",
      "metadata": {},
      "outputs": [
        {
          "data": {
            "text/plain": [
              "['Innovation Challenge',\n",
              " 'Innovation Challenge merged with blended financing\\xa0',\n",
              " 'Never deplete social capital, always increase social capital.',\n",
              " 'Scaling partnerships by demonstrating value incrementally',\n",
              " 'Sharing Knowledge, training, and unusual partnership',\n",
              " 'Even when the Lab is not there (or UNDP) things should continue - we have t…',\n",
              " 'Collaborative design of actions. Collective intelligence for experimenting and scaling with others…',\n",
              " 'Citizen Science and gamification using digital platform to crowdsource solutions',\n",
              " 'Human centering and adaptability: Less of me, more of them',\n",
              " 'Collaboration',\n",
              " 'Recognize and promote agency: Enable agency, the greatest choice for the greatest number.',\n",
              " 'Collective intelligence, video, visibility was key success, \"press advisor\"']"
            ]
          },
          "execution_count": 874,
          "metadata": {},
          "output_type": "execute_result"
        }
      ],
      "source": [
        "findDuplicates(topTags)"
      ]
    },
    {
      "cell_type": "code",
      "execution_count": 875,
      "id": "79b6b567-6bd3-40e7-86c5-0b66706d7894",
      "metadata": {},
      "outputs": [
        {
          "data": {
            "text/plain": [
              "'Experimenters_SWY.md'"
            ]
          },
          "execution_count": 875,
          "metadata": {},
          "output_type": "execute_result"
        }
      ],
      "source": [
        "output_name = \"{}.md\".format('_'.join([t for t in file_name.split('/') if t != '..' and t != '.']))\n",
        "output_name"
      ]
    },
    {
      "cell_type": "code",
      "execution_count": 876,
      "id": "bb1df137-7f6f-4653-8d12-f18e9fff6146",
      "metadata": {},
      "outputs": [],
      "source": [
        "output_file = open(\"../stories/pages/{}\".format(output_name), 'w')\n",
        "output_file.write(output_string)\n",
        "output_file.close()"
      ]
    },
    {
      "cell_type": "code",
      "execution_count": null,
      "id": "244789e5-c95d-4627-b857-ced8688625a4",
      "metadata": {},
      "outputs": [],
      "source": []
    }
  ],
  "metadata": {
    "kernelspec": {
      "display_name": "Python 3 (ipykernel)",
      "language": "python",
      "name": "python3"
    },
    "language_info": {
      "codemirror_mode": {
        "name": "ipython",
        "version": 3
      },
      "file_extension": ".py",
      "mimetype": "text/x-python",
      "name": "python",
      "nbconvert_exporter": "python",
      "pygments_lexer": "ipython3",
      "version": "3.12.7"
    }
  },
  "nbformat": 4,
  "nbformat_minor": 5
}
