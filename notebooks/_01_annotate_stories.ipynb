{
 "cells": [
  {
   "cell_type": "code",
   "execution_count": 1946,
   "id": "389eacaa-bd7c-4ac5-a4a2-5b60edf5e9eb",
   "metadata": {},
   "outputs": [],
   "source": [
    "from sentence_transformers import SentenceTransformer, util\n",
    "# import mammoth # THIS IS FOR CONVERTING THE DOCX TO MD\n",
    "from os import path, listdir\n",
    "import re"
   ]
  },
  {
   "cell_type": "code",
   "execution_count": 1947,
   "id": "4dbfa708-ff4e-442f-8d96-87b838c27f9b",
   "metadata": {},
   "outputs": [],
   "source": [
    "model = SentenceTransformer('sentence-transformers/paraphrase-MiniLM-L6-v2')"
   ]
  },
  {
   "cell_type": "code",
   "execution_count": 1948,
   "id": "41fafbed-45a8-433d-8eb0-f7ea6a0c580d",
   "metadata": {},
   "outputs": [],
   "source": [
    "%run load_docx.ipynb"
   ]
  },
  {
   "cell_type": "code",
   "execution_count": 1949,
   "id": "28178b40-028b-4230-93a8-630d021f90c4",
   "metadata": {},
   "outputs": [],
   "source": [
    "file = '../Explorer_BGD.docx'"
   ]
  },
  {
   "cell_type": "code",
   "execution_count": 1950,
   "id": "c6b7125e-51f1-49f1-a361-1f329b7b0e57",
   "metadata": {
    "scrolled": true
   },
   "outputs": [],
   "source": [
    "file_name, file_extension = path.splitext(file)"
   ]
  },
  {
   "cell_type": "code",
   "execution_count": 1951,
   "id": "4fdecca2-035f-4d15-a78c-fd79d7c6d341",
   "metadata": {},
   "outputs": [
    {
     "name": "stdout",
     "output_type": "stream",
     "text": [
      "[]\n"
     ]
    }
   ],
   "source": [
    "if file_extension == '.docx':\n",
    "    # doc = processDoc(file)\n",
    "    md = processMD(file)\n",
    "    # with open(file, \"rb\") as docx_file:\n",
    "    #     md = mammoth.convert_to_markdown(docx_file)\n",
    "        # len(doc[2:3][0])\n",
    "print(md.messages)"
   ]
  },
  {
   "cell_type": "code",
   "execution_count": 1952,
   "id": "814ac444-65da-4669-a16c-719f1a150eeb",
   "metadata": {},
   "outputs": [],
   "source": [
    "doc = md.value.split('\\n\\n')"
   ]
  },
  {
   "cell_type": "code",
   "execution_count": 1953,
   "id": "fdf8b431-87e4-4dff-ae18-6626acc92ccb",
   "metadata": {},
   "outputs": [],
   "source": [
    "def embed (string):\n",
    "    return model.encode(string)"
   ]
  },
  {
   "cell_type": "code",
   "execution_count": 1954,
   "id": "2e6f40ab-978b-4f44-8cda-26feaabaa8a3",
   "metadata": {},
   "outputs": [],
   "source": [
    "doc_embeddings = [(s,embed(s)) for s in doc]"
   ]
  },
  {
   "cell_type": "code",
   "execution_count": 1955,
   "id": "81d6f0ae-2503-4f03-b743-1e42ee8566c7",
   "metadata": {},
   "outputs": [],
   "source": [
    "def getType (md, w):\n",
    "    principle = 'Purpose/ reason: Why is this important?'\n",
    "    tactic = r'Tactic description: When do you apply this tactic\\? How does it work\\?'\n",
    "    skill = r'Skills description: What does the ability help you do, achieve, or produce\\?'\n",
    "    tool = r'(Type of tool: If it is a tool, what type of tool is it\\?|Short description: Describe in one sentence what the tool\\/ method is, and what it does\\.|Description of the tool: what is it\\?)'\n",
    "\n",
    "    res_principles = len(re.findall(principle, md))\n",
    "    res_tactics = len(re.findall(tactic, md))\n",
    "    res_skills = len(re.findall(skill, md))\n",
    "    res_tools = len(re.findall(tool, md))\n",
    "\n",
    "    # if res_principles == 0 and res_tactics == 0 and res_skills == 0 and res_tools == 0:\n",
    "    print(w)\n",
    "    print('pinciples', res_principles)\n",
    "    print('tactics', res_tactics)\n",
    "    print('skills', res_skills)\n",
    "    print('tools', res_tools)\n",
    "    print('\\n')\n",
    "\n",
    "    l = [('principles', res_principles), ('tactics', res_tactics), ('skills', res_skills), ('tools', res_tools)]\n",
    "    return [t for (t,c) in l if c == max(res_principles, res_tactics, res_skills, res_tools)]"
   ]
  },
  {
   "cell_type": "code",
   "execution_count": 1956,
   "id": "e8468ca7-3fae-4c6a-ac00-31b487bf45e3",
   "metadata": {},
   "outputs": [],
   "source": [
    "def filterMD (md):\n",
    "    # REMOVE ALL THE CHECKLISTS\n",
    "    md = re.sub(r'\\#\\#\\#\\# [\\w\\s\\:\\?\\/\\(\\)\\\\;&]+\\n', '', md)\n",
    "    md = re.sub(r'\\#+', '', md)\n",
    "    md = re.sub(r'\\n-[\\s_]+(Sense|Explore|Develop|Test|Diffuse|Catalyze)', '', md)\n",
    "    md = re.sub(r'\\n-[\\s_]+(Exploration|Solutions mapping|Experimentation)', '', md)\n",
    "    md = re.sub(r'\\n-[\\s_]+(The advocate|The analyst|The communicator|The convener|The hustler|The project manager|The qualitative researcher|The visionary)', '', md)\n",
    "    md = re.sub(r'\\n-[\\s_]+(Framework, Model|Guide, Manual|Platform, Portal|Playbook, Toolkit|Worksheet, Canvas|Process|Pilots|Proof of concept|Prototyping)', '', md)\n",
    "    md = re.sub(r'\\n-[\\s_]+(Yes|No)', '', md)\n",
    "    md = re.sub(r'[_\\\\]+', ' ', md)\n",
    "    md = re.sub(r'\\s+', ' ', md)\n",
    "    return md.strip()"
   ]
  },
  {
   "cell_type": "code",
   "execution_count": 1957,
   "id": "e2860155-b128-4a16-b864-d1e35cb8f163",
   "metadata": {},
   "outputs": [],
   "source": [
    "fromDB = True"
   ]
  },
  {
   "cell_type": "code",
   "execution_count": 1958,
   "id": "47eef125-ec2d-4220-a35e-62bddf792406",
   "metadata": {},
   "outputs": [
    {
     "name": "stderr",
     "output_type": "stream",
     "text": [
      "/var/folders/19/g73r505957gcy4y0smw3kd6r0000gn/T/ipykernel_6226/2256331286.py:1: UserWarning: pandas only supports SQLAlchemy connectable (engine/connection) or database string URI or sqlite3 DBAPI2 connection. Other DBAPI2 objects are not tested. Please consider using SQLAlchemy.\n",
      "  data = pd.read_sql_query(query,con=conn)\n"
     ]
    }
   ],
   "source": [
    "if fromDB == True:\n",
    "    %run get_keywords.ipynb\n",
    "else:\n",
    "    source = '/Users/myjyby/Documents/Projects/Codification fest/Transcripts/Elements/Docs/'\n",
    "    seed_keywords = [(f, processMD(path.join(source, f)).value) for f in listdir(source) if f != '.DS_Store']"
   ]
  },
  {
   "cell_type": "code",
   "execution_count": 1959,
   "id": "94bdb324-25c9-4ff5-8ecf-88d8e8b34f97",
   "metadata": {},
   "outputs": [],
   "source": [
    "if fromDB == False:\n",
    "    seed_keywords = [(w, filterMD(b), getType(b, w)[0]) for (w, b) in seed_keywords]"
   ]
  },
  {
   "cell_type": "code",
   "execution_count": 1960,
   "id": "479ba71d-b84c-45f7-9552-596c76e2f30c",
   "metadata": {},
   "outputs": [],
   "source": [
    "# print([(w,t) for (w,b,t) in seed_keywords])"
   ]
  },
  {
   "cell_type": "code",
   "execution_count": 1961,
   "id": "95955628-9ffe-4666-b491-cd17ed9709bf",
   "metadata": {},
   "outputs": [],
   "source": [
    "for w,b,t in seed_keywords:\n",
    "    if len(b) < 50:\n",
    "        print(w, len(b))\n",
    "\n",
    "seed_keywords = [(w,b,t) for (w,b,t) in seed_keywords if len(b) > 50]"
   ]
  },
  {
   "cell_type": "code",
   "execution_count": 1962,
   "id": "f3a64c3a-573f-4b07-83aa-455e4af6acc1",
   "metadata": {},
   "outputs": [
    {
     "data": {
      "text/plain": [
       "('KoboToolbox for Mapping Solutions Nationwide',\n",
       " 'KoboToolbox for Mapping Solutions NationwideKoboToolbox for Mapping Solutions Nationwide\\n\\nImage: What does it look like?\\n\\nReference: Where can we find more information or download materials?\\nhttps://eu.kobotoolbox.org/accounts/login/\\n\\nDescription: What is it? (max 1,500 characters)\\nKoboToolbox is an open-source platform for the collection, management, and visualization of data.\\n\\nPurpose: Why do we use this method or tool for R&amp;D? (max 1,500 characters)\\nIt offers intuitive usability, tailored for efficient data collection without extensive technical training. Designed for challenging environments like humanitarian crises, it supports offline use on affordable mobile devices while providing advanced data management features. KoboToolbox allows easy migration between platforms, and supports multilingual survey forms, facilitating collaboration across global teams.\\n\\nSummary: Describe in one sentence, what it is and what it does? (max 120 characters)\\nA user-friendly platform for collecting quality data in challenging environments, offering free tools and multilingual support.\\n\\nInstructions: How is it used for R&amp;D? What steps to follow?\\nDesign the questionnaire/survey or data collection forms\\nBuild form using KoboToolbox intuitive interface\\nShare form to innovators whether online or offline\\nCollect and manage data on the platform\\nAnalyze data and present finding using tools, visualizations and presentation features on the platform\\n\\nRequirements: What is needed to effectively use it for R&amp;D? (e.g. skills, conditions, inputs, resources)\\nBasic knowledge using digital platforms and familiarity with survey design and data collection methods;\\nAvailability of internet access and mobile devices for data collection, as well as computers for data management and analysis;\\n\\nAdherence to ethical guidelines and regulations governing research data collection and participant privacy;\\n\\nTraining sessions or resources to ensure users understand how to effectively utilize features for data collection and analysis.\\n\\nReflections: What to keep in mind when using the tool for R&amp;D purposes?\\nEnsure survey design and data collection methods align closely with the research objectives;\\nRespect participant confidentiality and privacy - all participants should be informed of purpose and use of data collected;\\nContinuously evaluate and refine survey design and data collection methods based on feedback and insights gained\\n\\nType of tool: If it is a tool, what type of tool is it?\\nPlatform, Portal\\n\\nRelated methods: For which method(s) is this tool used?\\nmethods: (Community) Asset Mapping\\nmethods: Collective Intelligence\\nmethods: Data Visualisation\\nmethods: Ethnography\\nmethods: Solutions Mapping\\n\\nR&amp;D Activity: For which R&amp;D activity is this tool or method used?\\nSense\\nExplore\\n\\nRoles: Which role is this tool or methods associated with?\\nExploration\\nSolutions mapping\\n\\nCredit: Who developed the tool or method?\\nKoboToolbox was developed by the Harvard Humanitarian Initiative (HHI), a team of researchers and developers based at the Harvard T.H. Chan School of Public Health\\n\\nRecommended resources: Where can we find more information about this method or tool?\\nhttps://www.kobotoolbox.org/\\n\\nLicense: Under what kind of license is this tool or method available?\\nFree or open\\n\\nIn-house: Was this tool developed in-house by an Accelerator Lab?\\nNo\\n\\nLink to your work that uses this method or tool.\\nhttps://ee-eu.kobotoolbox.org/x/bRLGdHba\\xa0\\n\\n\\n\\nhttps://ee-eu.kobotoolbox.org/x/EWOwvfSV',\n",
       " 'Tools capture card')"
      ]
     },
     "execution_count": 1962,
     "metadata": {},
     "output_type": "execute_result"
    }
   ],
   "source": [
    "seed_keywords[11]"
   ]
  },
  {
   "cell_type": "code",
   "execution_count": 1963,
   "id": "a0762616-3ee2-4e0d-9598-c767470808b3",
   "metadata": {},
   "outputs": [],
   "source": [
    "embedTitle = False\n",
    "\n",
    "if embedTitle:\n",
    "    keyword_embeddings = [(w,t,embed(w)) for (w,b,t) in seed_keywords]\n",
    "else:\n",
    "    keyword_embeddings = [(w,t,embed(b)) for (w,b,t) in seed_keywords]"
   ]
  },
  {
   "cell_type": "code",
   "execution_count": 1964,
   "id": "7ef09939-80bd-45d6-a407-6cd9f63b8c44",
   "metadata": {},
   "outputs": [],
   "source": [
    "def compare (e1, e2):\n",
    "    return util.pytorch_cos_sim(e1, e2).tolist()[0][0]"
   ]
  },
  {
   "cell_type": "code",
   "execution_count": 1965,
   "id": "3828ec64-cd6d-4cf0-87e3-cd1079799075",
   "metadata": {},
   "outputs": [
    {
     "name": "stdout",
     "output_type": "stream",
     "text": [
      "# Explorer\\-Bangladesh\\-Iffat Anjum\n",
      "\n",
      "###   \n",
      "\\[\\[0:01\\]\\] Hey, Neil\\.\n",
      "\n",
      "Hey\\. Hello\\.\n",
      "\n",
      "###   \n",
      "\\[\\[0:03\\]\\] How are you?\n",
      "\n",
      "I'm doing all right\\.\n",
      "\n",
      "###   \n",
      "\\[\\[0:05\\]\\] How are you?\n",
      "\n",
      "Fine\\.\n",
      "\n",
      "###   \n",
      "\\[\\[0:06\\]\\] So what's your name and your position?\n",
      "\n",
      "I'm Irfan Anzu\\. I'm working as the head of exploration at Bangladesh Accelerator Lab\\.\n",
      "\n",
      "###   \n",
      "\\[\\[0:14\\]\\] And could you tell me about an R&D activity you'd like to share?\n",
      "\n",
      "[[Skills capture card:Sharing Knowledge, training, and unusual partnership]]\n",
      "[[Tools capture card:8 Elements (or Steps) for Policy Innovation]]\n",
      "[[Tools capture card:Scaling partnerships by demonstrating value incrementally]]\n",
      "[[Skills capture card:Collective intelligence, video, visibility was key success, \"press advisor\"]]\n",
      "So I worked on a project aimed at promoting digital financial inclusion in my country\\. So it was a policy advocacy initiative and it had five key components\\. One of the first one was media engagement, then Policy Research, capacity building, training for journalists, regional engagement with regional think tanks\\. These were the key components\\. And the final strong component was establishing a closed door policy dialogue platform where we brought together these key stakeholders from private sector, government, academia in development organizations together to discuss policy reforms needed for promoting digital financial inclusion\\.\n",
      "\n",
      "\n",
      "###   \n",
      "\\[\\[1:13\\]\\] Wow, it's I, I love the way you, that you answer and you answer a lot of questions\\. So I will go to what tools and methods did you use and why?\n",
      "\n",
      "[[Tools capture card:Scaling partnerships by demonstrating value incrementally]]\n",
      "[[Tools capture card:Innovation Challenge merged with blended financing ]]\n",
      "[[Tools capture card:Gamification for financial education ]]\n",
      "[[Skills capture card:Sharing Knowledge, training, and unusual partnership]]\n",
      "So we conducted 3 core Policy Research\\. One of them was financial interoperability\\. So in my country, we had interoperability among banks but not among mobile financial services\\. So that was a gap that we identified through our project\\.So we did a policy study on that to advocate for financial interoperability platform that will allow mobile financial services to inter be interoperable\\. That was one\\. And we also did quite a few regional studies focusing on the digital financial inclusion for marginalized communities, for example, the marginalized farmers, the ethnic plainland ethnic communities, which are minorities in my country and also the ultra poor in the wetland, very hard to reach wetland areas in the country\\. I think that we need that to also inertia\\. So the Policy Studies we did media engagement where we disseminated the findings scheme, policy messages from the studies and the closed door policy advocacy, policy dialogue platform, it's called Enablers Network, where we brought together the key stakeholders from private sector business leaders, government officials, they all came together for this policy dialogue and it was closed door\\. So under Chatham House role, they were able to speak freely about their grievances\\. And in order to build the financial interoperability platform, the private sector business leaders had a chance to discuss among themselves what the transaction fees would be, whether their market shares would allow them to come on board with the platform\\. So these sort of things that do not they do not usually get a chance to talk about with the policy makers, but this platform really helped as a tool for them to discuss the policy grievances\\.\n",
      "\n",
      "\n",
      "###   \n",
      "\\[\\[3:37\\]\\] So it seems that you have to talk with different and diverse stakeholders\\. So what tactics and build their confidence\\.\n",
      "\n",
      "[[Principles capture card:Transparency]]\n",
      "[[Principles capture card:Trust/Authenticity: Build trust as a must]]\n",
      "[[Principles capture card:Transparency and Honesty: Be open, transparent, honest]]\n",
      "[[Tools capture card:Collaborative design of actions]]\n",
      "So one of the tactics was that one is its closed door\\. So they can they feel confident, they feel safe speaking in this platform without fearing any retaliation from policy makers, enforcers or financial authority or anyone\\. So that was one and building their confidence in us as non government think tank kind of spaces\\. So our role was often enabler\\. We were trying to build an enabling platform where they can discuss the policy grievances\\.\n",
      "\n",
      "\n",
      "###   \n",
      "\\[\\[4:27\\]\\] So what skills do you think that were needed to effectively understand that the challenge?\n",
      "\n",
      "[[Principles capture card:Human centering and adaptability: Less of me, more of them]]\n",
      "[[Principles capture card:Recognize local expertise /Knowledge is produced from below: Nothing for us, without us]]\n",
      "[[Principles capture card:Collaboration]]\n",
      "[[Principles capture card:Empathy]]\n",
      "So, So one of the key skills that I found came very useful was the ability to read the room S When you have diverse stakeholders in one room, you need to read the room to understand who is not really speaking up and why, how to make sure that he or she feels free to voice their opinion\\. Also, when you're dealing with marginalized communities, you have to understand where they are individual contexts and they're the kind of obstacles that they face\\. So reading the room in terms of understanding multiple stakeholders is very important\\. And one thing that really comes handy, one skill in policy advocacy is not taking credit\\. So as an enabler, you should not try to take credit\\. You should actually let others take credit\\. Your role is often enabler\\. So if someone feels happy taking the credit and it gets the job done, then that should be it\\.\n",
      "\n",
      "\n",
      "###   \n",
      "\\[\\[5:45\\]\\] I love it, I love it\\. So what do you think that what was the impact outcome of of this journey?\n",
      "\n",
      "[[Tools capture card:Scaling partnerships by demonstrating value incrementally]]\n",
      "[[Tools capture card:Innovation Challenge merged with blended financing ]]\n",
      "[[Skills capture card:Sharing Knowledge, training, and unusual partnership]]\n",
      "[[Skills capture card:Collective intelligence, video, visibility was key success, \"press advisor\"]]\n",
      "Well, the most tangible impact was that a financial inter, the platform, interoperable digital transaction platform that was developed by the policy makers as a result of this policy advocacy initiative, which allowed the mobile financial services to be interoperable with among themselves also with banks\\. Other intangible impacts or outcomes I would say where of course the journalists developed a capacity and learning of digital financial inclusion\\. What are the what is financial interoperability? What are the relevant challenges in this sector? So they have they are now they we were able to build their capacity\\.\n",
      "\n",
      "\n",
      "###   \n",
      "\\[\\[6:39\\]\\] And what did you learn from all these journey?\n",
      "\n",
      "[[Principles capture card:Never deplete social capital, always increase social capital]]\n",
      "[[Tools capture card:Scaling partnerships by demonstrating value incrementally]]\n",
      "[[Tools capture card:8 Elements (or Steps) for Policy Innovation]]\n",
      "[[Tools capture card:Innovation Challenge merged with blended financing ]]\n",
      "We learnt that Bangladesh has come a long way in terms of financial inclusion but there are still remains policy gaps\\. There is a need for policy measures in terms of ensuring that CMSMS, micro entrepreneurs, they get access to financial services, formal financial services\\. There still remains huge gender gap, gender divide in terms of digital financial inclusion, which needs to be at trust\\.\n",
      "\n",
      "\n",
      "###   \n",
      "\\[\\[7:19\\]\\] So what would you do differently if you have to start again?\n",
      "\n",
      "[[Tools capture card:Innovation Challenge merged with blended financing ]]\n",
      "[[Principles capture card:Partnership]]\n",
      "[[Tools capture card:Scaling partnerships by demonstrating value incrementally]]\n",
      "[[Principles capture card:Collaboration]]\n",
      "You'd engage more\\. I mean, we did try to engage the private sector, but not all of them were on board with the initiative\\. So I will probably try to bring more private sector stakeholders involve them because they are the ones ultimately providing the solutions to for example, women LED micro entrepreneurs with financial solutions, financial products that will cater to their unique needs\\. For example, the farmers that we interviewed marginalized farmers, they were not using digital financial services simply because they do not need the existing financial products that are being offered by mobile financial services\\. So they have their unique needs and its is the private sector which can actually develop tailored solutions for these communities, marginalized communities\\. So more prototyping of tailored solutions involving the private sector\\.\n",
      "\n",
      "\n",
      "###   \n",
      "\\[\\[8:28\\]\\] Thank you very much for your time\\.\n",
      "\n",
      "Thank you\\.\n",
      "\n",
      "\n",
      "\n",
      "\n"
     ]
    }
   ],
   "source": [
    "topTags = []\n",
    "useTypes = False\n",
    "\n",
    "output_string = ''\n",
    "\n",
    "for snippet in doc_embeddings:\n",
    "    if len(snippet[0]) > 100 and not snippet[0].startswith('#') :\n",
    "        distances = [(w,t,compare(e, snippet[1])) for (w,t,e) in keyword_embeddings]\n",
    "        distances.sort(key = lambda tup: tup[2], reverse = True)\n",
    "        types = list(set([t for (w,t,e) in keyword_embeddings]))\n",
    "        \n",
    "        if useTypes:\n",
    "            for t in types:\n",
    "                top_keyword = [w for (w, dt, e) in distances if dt == t][0]\n",
    "                keyword, extension = path.splitext(top_keyword)\n",
    "                output_string = output_string + \"[[{}:{}]]\".format(t.replace('capture card', '').strip().lower(), keyword)\n",
    "                output_string = output_string + '\\n'\n",
    "        else:\n",
    "            # print([(w, e) for (w, dt, e) in distances][0:3])\n",
    "            top_keyword = [(w, dt) for (w, dt, e) in distances][:4]\n",
    "            # output_string = output_string + \"[[{}]]\".format(top_keyword)\n",
    "            for w, dt in top_keyword:\n",
    "                keyword, extension = path.splitext(w)\n",
    "                output_string = output_string + \"[[{}:{}]]\".format(dt, keyword)\n",
    "                output_string = output_string + '\\n'\n",
    "            # output_string = output_string + '\\n\\n'\n",
    "\n",
    "        output_string = output_string + snippet[0]\n",
    "        output_string = output_string + '\\n\\n'\n",
    "        \n",
    "        topTags += [w for (w,t,e) in distances[:5]]\n",
    "        output_string = output_string + '\\n'\n",
    "        # print(snippet[0], distances[:5])\n",
    "    else:\n",
    "        output_string = output_string + snippet[0]\n",
    "        output_string = output_string + '\\n\\n'\n",
    "print(output_string)"
   ]
  },
  {
   "cell_type": "code",
   "execution_count": 1966,
   "id": "bb3b85d6-2449-4042-a636-390754d64f1c",
   "metadata": {},
   "outputs": [],
   "source": [
    "def findDuplicates (l):\n",
    "    seen = set()\n",
    "    duplicates = []\n",
    "\n",
    "    for x in l:\n",
    "        if x in seen and x not in duplicates:\n",
    "            duplicates.append(x)\n",
    "        else:\n",
    "            seen.add(x)\n",
    "    return duplicates"
   ]
  },
  {
   "cell_type": "code",
   "execution_count": 1967,
   "id": "11c281ef-8aa1-4b2e-822d-ad99b35250e8",
   "metadata": {},
   "outputs": [
    {
     "data": {
      "text/plain": [
       "['Scaling partnerships by demonstrating value incrementally',\n",
       " 'Innovation Challenge merged with blended financing\\xa0',\n",
       " 'Sharing Knowledge, training, and unusual partnership',\n",
       " 'Collective intelligence, video, visibility was key success, \"press advisor\"',\n",
       " 'Collaboration',\n",
       " '8 Elements (or Steps) for Policy Innovation',\n",
       " 'Partnership']"
      ]
     },
     "execution_count": 1967,
     "metadata": {},
     "output_type": "execute_result"
    }
   ],
   "source": [
    "findDuplicates(topTags)"
   ]
  },
  {
   "cell_type": "code",
   "execution_count": 1968,
   "id": "79b6b567-6bd3-40e7-86c5-0b66706d7894",
   "metadata": {},
   "outputs": [
    {
     "data": {
      "text/plain": [
       "'Explorer_BGD.md'"
      ]
     },
     "execution_count": 1968,
     "metadata": {},
     "output_type": "execute_result"
    }
   ],
   "source": [
    "output_name = \"{}.md\".format('_'.join([t for t in file_name.split('/') if t != '..' and t != '.']))\n",
    "output_name"
   ]
  },
  {
   "cell_type": "code",
   "execution_count": 1969,
   "id": "bb1df137-7f6f-4653-8d12-f18e9fff6146",
   "metadata": {},
   "outputs": [],
   "source": [
    "output_file = open(\"../stories/pages/{}\".format(output_name), 'w')\n",
    "output_file.write(output_string)\n",
    "output_file.close()"
   ]
  },
  {
   "cell_type": "code",
   "execution_count": null,
   "id": "244789e5-c95d-4627-b857-ced8688625a4",
   "metadata": {},
   "outputs": [],
   "source": []
  }
 ],
 "metadata": {
  "kernelspec": {
   "display_name": "Python 3 (ipykernel)",
   "language": "python",
   "name": "python3"
  },
  "language_info": {
   "codemirror_mode": {
    "name": "ipython",
    "version": 3
   },
   "file_extension": ".py",
   "mimetype": "text/x-python",
   "name": "python",
   "nbconvert_exporter": "python",
   "pygments_lexer": "ipython3",
   "version": "3.12.7"
  }
 },
 "nbformat": 4,
 "nbformat_minor": 5
}
