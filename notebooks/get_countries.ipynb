{
 "cells": [
  {
   "cell_type": "code",
   "execution_count": 1,
   "id": "3af5e97f-3f35-440e-8344-d7cc924927c7",
   "metadata": {},
   "outputs": [],
   "source": [
    "import psycopg2\n",
    "import pandas as pd\n",
    "from os import environ"
   ]
  },
  {
   "cell_type": "code",
   "execution_count": 2,
   "id": "35e97c54-95d2-4262-a339-667298964c60",
   "metadata": {},
   "outputs": [],
   "source": [
    "conn = psycopg2.connect(\n",
    "    host=environ['DB_HOST'],\n",
    "\tport=environ['DB_PORT'],\n",
    "\tuser=environ['DB_USERNAME'],\n",
    "\tpassword=environ['DB_PASSWORD'],\n",
    "\tdatabase=environ['DB_MAIN_NAME'],\n",
    ")"
   ]
  },
  {
   "cell_type": "code",
   "execution_count": 3,
   "id": "076078c9-fc36-4e0b-8aa5-177efc6ee944",
   "metadata": {},
   "outputs": [],
   "source": [
    "%run get_pool_of_elements.ipynb"
   ]
  },
  {
   "cell_type": "code",
   "execution_count": 4,
   "id": "6adbb976-22e4-4fb6-b0e5-a6b98da03427",
   "metadata": {},
   "outputs": [],
   "source": [
    "query = \"\"\"\n",
    "    SELECT c.iso3, c.name, a.continent \n",
    "    FROM country_names c\n",
    "    LEFT JOIN adm0 a\n",
    "        ON a.adm0_a3 =  c.iso3\n",
    ";\"\"\".format(tuple(pool_ids))"
   ]
  },
  {
   "cell_type": "code",
   "execution_count": 5,
   "id": "3577691e-c88f-42f7-92f8-358a4a848768",
   "metadata": {},
   "outputs": [
    {
     "name": "stderr",
     "output_type": "stream",
     "text": [
      "/var/folders/tg/c_k1syfs2b9gvpkyjkcmdqx00000gn/T/ipykernel_14595/1832143831.py:1: UserWarning: pandas only supports SQLAlchemy connectable (engine/connection) or database string URI or sqlite3 DBAPI2 connection. Other DBAPI2 objects are not tested. Please consider using SQLAlchemy.\n",
      "  countries = pd.read_sql_query(query,con=conn)\n"
     ]
    }
   ],
   "source": [
    "countries = pd.read_sql_query(query,con=conn)"
   ]
  },
  {
   "cell_type": "code",
   "execution_count": 10,
   "id": "0b35eb22-30b0-48ff-818b-527fafb8cc7b",
   "metadata": {},
   "outputs": [
    {
     "data": {
      "text/html": [
       "<div>\n",
       "<style scoped>\n",
       "    .dataframe tbody tr th:only-of-type {\n",
       "        vertical-align: middle;\n",
       "    }\n",
       "\n",
       "    .dataframe tbody tr th {\n",
       "        vertical-align: top;\n",
       "    }\n",
       "\n",
       "    .dataframe thead th {\n",
       "        text-align: right;\n",
       "    }\n",
       "</style>\n",
       "<table border=\"1\" class=\"dataframe\">\n",
       "  <thead>\n",
       "    <tr style=\"text-align: right;\">\n",
       "      <th></th>\n",
       "      <th>iso3</th>\n",
       "      <th>name</th>\n",
       "      <th>continent</th>\n",
       "    </tr>\n",
       "  </thead>\n",
       "  <tbody>\n",
       "    <tr>\n",
       "      <th>224</th>\n",
       "      <td>GNB</td>\n",
       "      <td>Guinea Bissau</td>\n",
       "      <td>Africa</td>\n",
       "    </tr>\n",
       "    <tr>\n",
       "      <th>226</th>\n",
       "      <td>GNB</td>\n",
       "      <td>Guinea Bissau</td>\n",
       "      <td>Africa</td>\n",
       "    </tr>\n",
       "  </tbody>\n",
       "</table>\n",
       "</div>"
      ],
      "text/plain": [
       "    iso3           name continent\n",
       "224  GNB  Guinea Bissau    Africa\n",
       "226  GNB  Guinea Bissau    Africa"
      ]
     },
     "execution_count": 10,
     "metadata": {},
     "output_type": "execute_result"
    }
   ],
   "source": [
    "countries.loc[countries['name'] == 'Guinea-Bissau', 'name'] = 'Guinea Bissau'\n",
    "countries[countries['name'] == 'Guinea Bissau']"
   ]
  },
  {
   "cell_type": "code",
   "execution_count": 8,
   "id": "ec178156-3c57-46f7-873d-fa90e846a40d",
   "metadata": {},
   "outputs": [],
   "source": [
    "conn.close()"
   ]
  },
  {
   "cell_type": "code",
   "execution_count": null,
   "id": "c5e7d5ba-3ffd-448e-b8c1-e5c5c0063619",
   "metadata": {},
   "outputs": [],
   "source": []
  }
 ],
 "metadata": {
  "kernelspec": {
   "display_name": "Python 3 (ipykernel)",
   "language": "python",
   "name": "python3"
  },
  "language_info": {
   "codemirror_mode": {
    "name": "ipython",
    "version": 3
   },
   "file_extension": ".py",
   "mimetype": "text/x-python",
   "name": "python",
   "nbconvert_exporter": "python",
   "pygments_lexer": "ipython3",
   "version": "3.12.7"
  }
 },
 "nbformat": 4,
 "nbformat_minor": 5
}
